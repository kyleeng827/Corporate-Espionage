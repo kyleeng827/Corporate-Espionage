{
 "cells": [
  {
   "cell_type": "markdown",
   "metadata": {},
   "source": [
    "includes everything except words analysis, 6 hidden nodes, deep learning less acurate, loss= categorical_crossentropy"
   ]
  },
  {
   "cell_type": "markdown",
   "metadata": {},
   "source": [
    "without following and followers"
   ]
  },
  {
   "cell_type": "code",
   "execution_count": 1,
   "metadata": {},
   "outputs": [],
   "source": [
    "import pandas as pd"
   ]
  },
  {
   "cell_type": "code",
   "execution_count": 2,
   "metadata": {},
   "outputs": [],
   "source": [
    "df = pd.read_csv(\"final_output.csv\", encoding = \"latin1\")"
   ]
  },
  {
   "cell_type": "code",
   "execution_count": 3,
   "metadata": {},
   "outputs": [
    {
     "data": {
      "text/html": [
       "<div>\n",
       "<style scoped>\n",
       "    .dataframe tbody tr th:only-of-type {\n",
       "        vertical-align: middle;\n",
       "    }\n",
       "\n",
       "    .dataframe tbody tr th {\n",
       "        vertical-align: top;\n",
       "    }\n",
       "\n",
       "    .dataframe thead th {\n",
       "        text-align: right;\n",
       "    }\n",
       "</style>\n",
       "<table border=\"1\" class=\"dataframe\">\n",
       "  <thead>\n",
       "    <tr style=\"text-align: right;\">\n",
       "      <th></th>\n",
       "      <th>label</th>\n",
       "      <th>id</th>\n",
       "      <th>name</th>\n",
       "      <th>username</th>\n",
       "      <th>bio</th>\n",
       "      <th>location</th>\n",
       "      <th>url</th>\n",
       "      <th>join_date</th>\n",
       "      <th>join_time</th>\n",
       "      <th>tweets</th>\n",
       "      <th>...</th>\n",
       "      <th>media</th>\n",
       "      <th>private</th>\n",
       "      <th>verified</th>\n",
       "      <th>profile_image_url</th>\n",
       "      <th>background_image</th>\n",
       "      <th>color_number</th>\n",
       "      <th>face_detection</th>\n",
       "      <th>follower/following_ratio</th>\n",
       "      <th>b_key_count</th>\n",
       "      <th>i_key_count</th>\n",
       "    </tr>\n",
       "  </thead>\n",
       "  <tbody>\n",
       "    <tr>\n",
       "      <th>0</th>\n",
       "      <td>individual</td>\n",
       "      <td>379823034</td>\n",
       "      <td>mohammed</td>\n",
       "      <td>BarcaMohammed</td>\n",
       "      <td>NaN</td>\n",
       "      <td>North Bergen</td>\n",
       "      <td>NaN</td>\n",
       "      <td>9/25/11</td>\n",
       "      <td>9:33:00</td>\n",
       "      <td>172.0</td>\n",
       "      <td>...</td>\n",
       "      <td>1.0</td>\n",
       "      <td>0.0</td>\n",
       "      <td>0.0</td>\n",
       "      <td>https://pbs.twimg.com/profile_images/166601617...</td>\n",
       "      <td>NaN</td>\n",
       "      <td>51912.0</td>\n",
       "      <td>0.0</td>\n",
       "      <td>0.023256</td>\n",
       "      <td>0.0</td>\n",
       "      <td>0.0</td>\n",
       "    </tr>\n",
       "    <tr>\n",
       "      <th>1</th>\n",
       "      <td>individual</td>\n",
       "      <td>931229576</td>\n",
       "      <td>SaMisches</td>\n",
       "      <td>Shmisch</td>\n",
       "      <td>NaN</td>\n",
       "      <td>NaN</td>\n",
       "      <td>NaN</td>\n",
       "      <td>11/6/12</td>\n",
       "      <td>20:41:00</td>\n",
       "      <td>6.0</td>\n",
       "      <td>...</td>\n",
       "      <td>3.0</td>\n",
       "      <td>0.0</td>\n",
       "      <td>0.0</td>\n",
       "      <td>https://pbs.twimg.com/profile_images/930857677...</td>\n",
       "      <td>NaN</td>\n",
       "      <td>31033.0</td>\n",
       "      <td>0.0</td>\n",
       "      <td>0.108696</td>\n",
       "      <td>0.0</td>\n",
       "      <td>0.0</td>\n",
       "    </tr>\n",
       "    <tr>\n",
       "      <th>2</th>\n",
       "      <td>individual</td>\n",
       "      <td>393095898</td>\n",
       "      <td>Christopher Pawelski</td>\n",
       "      <td>ChrisPawelski</td>\n",
       "      <td>A 4th generation family onion farmer married t...</td>\n",
       "      <td>Florida, NY</td>\n",
       "      <td>http://about.me/chris_pawelski</td>\n",
       "      <td>10/17/11</td>\n",
       "      <td>18:00:00</td>\n",
       "      <td>49503.0</td>\n",
       "      <td>...</td>\n",
       "      <td>23400.0</td>\n",
       "      <td>0.0</td>\n",
       "      <td>0.0</td>\n",
       "      <td>https://pbs.twimg.com/profile_images/686658233...</td>\n",
       "      <td>https://pbs.twimg.com/profile_banners/39309589...</td>\n",
       "      <td>46205.0</td>\n",
       "      <td>0.0</td>\n",
       "      <td>1.085431</td>\n",
       "      <td>0.0</td>\n",
       "      <td>1.0</td>\n",
       "    </tr>\n",
       "    <tr>\n",
       "      <th>3</th>\n",
       "      <td>individual</td>\n",
       "      <td>3109060051</td>\n",
       "      <td>xrishin</td>\n",
       "      <td>xrishin</td>\n",
       "      <td>NaN</td>\n",
       "      <td>NaN</td>\n",
       "      <td>NaN</td>\n",
       "      <td>3/26/15</td>\n",
       "      <td>19:39:00</td>\n",
       "      <td>3.0</td>\n",
       "      <td>...</td>\n",
       "      <td>0.0</td>\n",
       "      <td>1.0</td>\n",
       "      <td>0.0</td>\n",
       "      <td>https://abs.twimg.com/sticky/default_profile_i...</td>\n",
       "      <td>NaN</td>\n",
       "      <td>184.0</td>\n",
       "      <td>0.0</td>\n",
       "      <td>0.050000</td>\n",
       "      <td>0.0</td>\n",
       "      <td>0.0</td>\n",
       "    </tr>\n",
       "    <tr>\n",
       "      <th>4</th>\n",
       "      <td>business</td>\n",
       "      <td>1.13E+18</td>\n",
       "      <td>LENDVER</td>\n",
       "      <td>LendverLLC</td>\n",
       "      <td>BORROW CONFIDENTLY. We__Î¢_öÎå_Î¢ve do...</td>\n",
       "      <td>NaN</td>\n",
       "      <td>https://www.lendver.com/</td>\n",
       "      <td>5/29/19</td>\n",
       "      <td>7:32:00</td>\n",
       "      <td>2.0</td>\n",
       "      <td>...</td>\n",
       "      <td>1.0</td>\n",
       "      <td>0.0</td>\n",
       "      <td>0.0</td>\n",
       "      <td>https://pbs.twimg.com/profile_images/113375859...</td>\n",
       "      <td>https://pbs.twimg.com/profile_banners/11337428...</td>\n",
       "      <td>510.0</td>\n",
       "      <td>0.0</td>\n",
       "      <td>0.090909</td>\n",
       "      <td>0.0</td>\n",
       "      <td>0.0</td>\n",
       "    </tr>\n",
       "  </tbody>\n",
       "</table>\n",
       "<p>5 rows × 23 columns</p>\n",
       "</div>"
      ],
      "text/plain": [
       "        label          id                  name       username  \\\n",
       "0  individual   379823034              mohammed  BarcaMohammed   \n",
       "1  individual   931229576             SaMisches        Shmisch   \n",
       "2  individual   393095898  Christopher Pawelski  ChrisPawelski   \n",
       "3  individual  3109060051               xrishin        xrishin   \n",
       "4    business    1.13E+18               LENDVER     LendverLLC   \n",
       "\n",
       "                                                 bio      location  \\\n",
       "0                                                NaN  North Bergen   \n",
       "1                                                NaN           NaN   \n",
       "2  A 4th generation family onion farmer married t...   Florida, NY   \n",
       "3                                                NaN           NaN   \n",
       "4  BORROW CONFIDENTLY. We__Î¢_öÎå_Î¢ve do...           NaN   \n",
       "\n",
       "                              url join_date join_time   tweets     ...       \\\n",
       "0                             NaN   9/25/11   9:33:00    172.0     ...        \n",
       "1                             NaN   11/6/12  20:41:00      6.0     ...        \n",
       "2  http://about.me/chris_pawelski  10/17/11  18:00:00  49503.0     ...        \n",
       "3                             NaN   3/26/15  19:39:00      3.0     ...        \n",
       "4        https://www.lendver.com/   5/29/19   7:32:00      2.0     ...        \n",
       "\n",
       "     media private verified  \\\n",
       "0      1.0     0.0      0.0   \n",
       "1      3.0     0.0      0.0   \n",
       "2  23400.0     0.0      0.0   \n",
       "3      0.0     1.0      0.0   \n",
       "4      1.0     0.0      0.0   \n",
       "\n",
       "                                   profile_image_url  \\\n",
       "0  https://pbs.twimg.com/profile_images/166601617...   \n",
       "1  https://pbs.twimg.com/profile_images/930857677...   \n",
       "2  https://pbs.twimg.com/profile_images/686658233...   \n",
       "3  https://abs.twimg.com/sticky/default_profile_i...   \n",
       "4  https://pbs.twimg.com/profile_images/113375859...   \n",
       "\n",
       "                                    background_image  color_number  \\\n",
       "0                                                NaN       51912.0   \n",
       "1                                                NaN       31033.0   \n",
       "2  https://pbs.twimg.com/profile_banners/39309589...       46205.0   \n",
       "3                                                NaN         184.0   \n",
       "4  https://pbs.twimg.com/profile_banners/11337428...         510.0   \n",
       "\n",
       "  face_detection follower/following_ratio  b_key_count  i_key_count  \n",
       "0            0.0                 0.023256          0.0          0.0  \n",
       "1            0.0                 0.108696          0.0          0.0  \n",
       "2            0.0                 1.085431          0.0          1.0  \n",
       "3            0.0                 0.050000          0.0          0.0  \n",
       "4            0.0                 0.090909          0.0          0.0  \n",
       "\n",
       "[5 rows x 23 columns]"
      ]
     },
     "execution_count": 3,
     "metadata": {},
     "output_type": "execute_result"
    }
   ],
   "source": [
    "df.head()"
   ]
  },
  {
   "cell_type": "code",
   "execution_count": 4,
   "metadata": {},
   "outputs": [
    {
     "data": {
      "text/plain": [
       "(11456, 23)"
      ]
     },
     "execution_count": 4,
     "metadata": {},
     "output_type": "execute_result"
    }
   ],
   "source": [
    "df.shape"
   ]
  },
  {
   "cell_type": "code",
   "execution_count": 5,
   "metadata": {},
   "outputs": [],
   "source": [
    "# 999 was a code we used when executing python face_detection library on twitter profile pictures. \n",
    "# Specifically, 999 indicated that there was an error/no picture found when iterating through thr profile pictures\n",
    "df = df[df.face_detection != 999]\n",
    "# code 1 was assigned if a face was deteced, code 0 was assigned if a face was not detected."
   ]
  },
  {
   "cell_type": "code",
   "execution_count": 6,
   "metadata": {},
   "outputs": [],
   "source": [
    "# Create a column in dataframe indicating whether a url was linked on the twitter page or not. \n",
    "# If a url was detected, code 1 was assigned, else, 0 was assigned.\n",
    "array = []\n",
    "for i in list(df[\"url\"]):\n",
    "    if str(i) != \"nan\":\n",
    "        array.append(1)\n",
    "    else:\n",
    "        array.append(0)\n",
    "df[\"url_detect\"] = array"
   ]
  },
  {
   "cell_type": "code",
   "execution_count": 7,
   "metadata": {},
   "outputs": [
    {
     "data": {
      "text/plain": [
       "(11264, 24)"
      ]
     },
     "execution_count": 7,
     "metadata": {},
     "output_type": "execute_result"
    }
   ],
   "source": [
    "df.shape"
   ]
  },
  {
   "cell_type": "code",
   "execution_count": 8,
   "metadata": {},
   "outputs": [],
   "source": [
    "# color_number column is a column that gives a count of the number of colors a profile picture has.\n",
    "# We noticed that pictures with 184 colors all linked to the same default twitter profile picture.\n",
    "# Since no face recognition or insightful color count can be returned and properly evaluated by the model,\n",
    "# we decided to drop all rows that have a color count of 184.\n",
    "# Coincidentally, we noticed color_number = 0 all corresponding face_detection = 999.\n",
    "# Even though that was already dropped, we decided to add this precaution in case this was used on future scraped data\n",
    "df = df[(df.color_number != 184) & (df.color_number !=0)]"
   ]
  },
  {
   "cell_type": "code",
   "execution_count": 9,
   "metadata": {},
   "outputs": [
    {
     "data": {
      "text/plain": [
       "(10467, 24)"
      ]
     },
     "execution_count": 9,
     "metadata": {},
     "output_type": "execute_result"
    }
   ],
   "source": [
    "df.shape"
   ]
  },
  {
   "cell_type": "code",
   "execution_count": 10,
   "metadata": {},
   "outputs": [],
   "source": [
    "# Drop columns we dont need for modeling\n",
    "# df = df.drop(columns = [\"media\", \"name\", \"following\", \"followers\", \"id\", \"url\", \"bio\", \"location\", \"join_date\", \"join_time\", \\\n",
    "#                         \"private\", \"verified\", \"profile_image_url\", \"background_image\", \"i_key_count\"])\n",
    "df = df[[\"label\", \"username\", \"face_detection\", \"color_number\", \"b_key_count\", \"i_key_count\", \"url_detect\"]]"
   ]
  },
  {
   "cell_type": "code",
   "execution_count": 11,
   "metadata": {},
   "outputs": [],
   "source": [
    "df = df.dropna(how=\"any\")\n",
    "# Dataset used had 11401 rows, unclassified as business or not. Our team went into each twitter page to classify\n",
    "# whether the page was a business or individual. Since 1000s of rows could not be manually classified, \n",
    "# we dropped many unclassified rows\n",
    "# Dropping data must be the last step, because there are blank fields in the dropped columns, which may have values\n",
    "# in the variables we will take into consideration. Dropping pre-emptively will drop many rows unnecessarily"
   ]
  },
  {
   "cell_type": "code",
   "execution_count": 12,
   "metadata": {},
   "outputs": [
    {
     "data": {
      "text/plain": [
       "(2357, 7)"
      ]
     },
     "execution_count": 12,
     "metadata": {},
     "output_type": "execute_result"
    }
   ],
   "source": [
    "df.shape"
   ]
  },
  {
   "cell_type": "code",
   "execution_count": 13,
   "metadata": {},
   "outputs": [
    {
     "data": {
      "text/html": [
       "<div>\n",
       "<style scoped>\n",
       "    .dataframe tbody tr th:only-of-type {\n",
       "        vertical-align: middle;\n",
       "    }\n",
       "\n",
       "    .dataframe tbody tr th {\n",
       "        vertical-align: top;\n",
       "    }\n",
       "\n",
       "    .dataframe thead th {\n",
       "        text-align: right;\n",
       "    }\n",
       "</style>\n",
       "<table border=\"1\" class=\"dataframe\">\n",
       "  <thead>\n",
       "    <tr style=\"text-align: right;\">\n",
       "      <th></th>\n",
       "      <th>label</th>\n",
       "      <th>username</th>\n",
       "      <th>face_detection</th>\n",
       "      <th>color_number</th>\n",
       "      <th>b_key_count</th>\n",
       "      <th>i_key_count</th>\n",
       "      <th>url_detect</th>\n",
       "    </tr>\n",
       "  </thead>\n",
       "  <tbody>\n",
       "    <tr>\n",
       "      <th>0</th>\n",
       "      <td>individual</td>\n",
       "      <td>BarcaMohammed</td>\n",
       "      <td>0.0</td>\n",
       "      <td>51912.0</td>\n",
       "      <td>0.0</td>\n",
       "      <td>0.0</td>\n",
       "      <td>0</td>\n",
       "    </tr>\n",
       "    <tr>\n",
       "      <th>1</th>\n",
       "      <td>individual</td>\n",
       "      <td>Shmisch</td>\n",
       "      <td>0.0</td>\n",
       "      <td>31033.0</td>\n",
       "      <td>0.0</td>\n",
       "      <td>0.0</td>\n",
       "      <td>0</td>\n",
       "    </tr>\n",
       "    <tr>\n",
       "      <th>2</th>\n",
       "      <td>individual</td>\n",
       "      <td>ChrisPawelski</td>\n",
       "      <td>0.0</td>\n",
       "      <td>46205.0</td>\n",
       "      <td>0.0</td>\n",
       "      <td>1.0</td>\n",
       "      <td>1</td>\n",
       "    </tr>\n",
       "    <tr>\n",
       "      <th>4</th>\n",
       "      <td>business</td>\n",
       "      <td>LendverLLC</td>\n",
       "      <td>0.0</td>\n",
       "      <td>510.0</td>\n",
       "      <td>0.0</td>\n",
       "      <td>0.0</td>\n",
       "      <td>1</td>\n",
       "    </tr>\n",
       "    <tr>\n",
       "      <th>6</th>\n",
       "      <td>individual</td>\n",
       "      <td>ClaretSport</td>\n",
       "      <td>1.0</td>\n",
       "      <td>41897.0</td>\n",
       "      <td>0.0</td>\n",
       "      <td>0.0</td>\n",
       "      <td>1</td>\n",
       "    </tr>\n",
       "  </tbody>\n",
       "</table>\n",
       "</div>"
      ],
      "text/plain": [
       "        label       username  face_detection  color_number  b_key_count  \\\n",
       "0  individual  BarcaMohammed             0.0       51912.0          0.0   \n",
       "1  individual        Shmisch             0.0       31033.0          0.0   \n",
       "2  individual  ChrisPawelski             0.0       46205.0          0.0   \n",
       "4    business     LendverLLC             0.0         510.0          0.0   \n",
       "6  individual    ClaretSport             1.0       41897.0          0.0   \n",
       "\n",
       "   i_key_count  url_detect  \n",
       "0          0.0           0  \n",
       "1          0.0           0  \n",
       "2          1.0           1  \n",
       "4          0.0           1  \n",
       "6          0.0           1  "
      ]
     },
     "execution_count": 13,
     "metadata": {},
     "output_type": "execute_result"
    }
   ],
   "source": [
    "df.head()"
   ]
  },
  {
   "cell_type": "code",
   "execution_count": 14,
   "metadata": {},
   "outputs": [
    {
     "name": "stdout",
     "output_type": "stream",
     "text": [
      "(2357, 5) (2357,)\n"
     ]
    }
   ],
   "source": [
    "# Assign X (data) and y (target)\n",
    "X = df.drop([\"label\", \"username\"], axis=1)\n",
    "y = df[\"label\"]\n",
    "print(X.shape, y.shape)"
   ]
  },
  {
   "cell_type": "code",
   "execution_count": 15,
   "metadata": {},
   "outputs": [],
   "source": [
    "from sklearn.model_selection import train_test_split\n",
    "\n",
    "X_train, X_test, y_train, y_test = train_test_split(X, y, random_state=1, stratify=y)"
   ]
  },
  {
   "cell_type": "code",
   "execution_count": 24,
   "metadata": {
    "scrolled": true
   },
   "outputs": [
    {
     "name": "stderr",
     "output_type": "stream",
     "text": [
      "/Users/kyleeng/anaconda3/envs/PythonData/lib/python3.7/site-packages/sklearn/linear_model/logistic.py:433: FutureWarning: Default solver will be changed to 'lbfgs' in 0.22. Specify a solver to silence this warning.\n",
      "  FutureWarning)\n"
     ]
    },
    {
     "data": {
      "text/html": [
       "<div>\n",
       "<style scoped>\n",
       "    .dataframe tbody tr th:only-of-type {\n",
       "        vertical-align: middle;\n",
       "    }\n",
       "\n",
       "    .dataframe tbody tr th {\n",
       "        vertical-align: top;\n",
       "    }\n",
       "\n",
       "    .dataframe thead th {\n",
       "        text-align: right;\n",
       "    }\n",
       "</style>\n",
       "<table border=\"1\" class=\"dataframe\">\n",
       "  <thead>\n",
       "    <tr style=\"text-align: right;\">\n",
       "      <th></th>\n",
       "      <th>prediction</th>\n",
       "      <th>actual</th>\n",
       "    </tr>\n",
       "  </thead>\n",
       "  <tbody>\n",
       "    <tr>\n",
       "      <th>10300</th>\n",
       "      <td>individual</td>\n",
       "      <td>business</td>\n",
       "    </tr>\n",
       "    <tr>\n",
       "      <th>1404</th>\n",
       "      <td>individual</td>\n",
       "      <td>individual</td>\n",
       "    </tr>\n",
       "    <tr>\n",
       "      <th>10284</th>\n",
       "      <td>individual</td>\n",
       "      <td>individual</td>\n",
       "    </tr>\n",
       "    <tr>\n",
       "      <th>2494</th>\n",
       "      <td>individual</td>\n",
       "      <td>business</td>\n",
       "    </tr>\n",
       "    <tr>\n",
       "      <th>1935</th>\n",
       "      <td>individual</td>\n",
       "      <td>individual</td>\n",
       "    </tr>\n",
       "  </tbody>\n",
       "</table>\n",
       "</div>"
      ],
      "text/plain": [
       "       prediction      actual\n",
       "10300  individual    business\n",
       "1404   individual  individual\n",
       "10284  individual  individual\n",
       "2494   individual    business\n",
       "1935   individual  individual"
      ]
     },
     "execution_count": 24,
     "metadata": {},
     "output_type": "execute_result"
    }
   ],
   "source": [
    "from sklearn.linear_model import LogisticRegression\n",
    "classifier = LogisticRegression()\n",
    "classifier\n",
    "classifier.fit(X_train, y_train)\n",
    "\n",
    "# Prediction results on test data set\n",
    "predictions = classifier.predict(X_test)\n",
    "comparison = pd.DataFrame({\"prediction\": predictions, \"actual\": y_test})\n",
    "comparison.head()"
   ]
  },
  {
   "cell_type": "code",
   "execution_count": 22,
   "metadata": {},
   "outputs": [
    {
     "name": "stdout",
     "output_type": "stream",
     "text": [
      "Training Data Score: 0.6468590831918506\n",
      "Testing Data Score: 0.6474576271186441\n"
     ]
    }
   ],
   "source": [
    "print(f\"Training Data Score: {classifier.score(X_train, y_train)}\")\n",
    "print(f\"Testing Data Score: {classifier.score(X_test, y_test)}\")"
   ]
  },
  {
   "cell_type": "code",
   "execution_count": 17,
   "metadata": {},
   "outputs": [
    {
     "data": {
      "text/html": [
       "<div>\n",
       "<style scoped>\n",
       "    .dataframe tbody tr th:only-of-type {\n",
       "        vertical-align: middle;\n",
       "    }\n",
       "\n",
       "    .dataframe tbody tr th {\n",
       "        vertical-align: top;\n",
       "    }\n",
       "\n",
       "    .dataframe thead th {\n",
       "        text-align: right;\n",
       "    }\n",
       "</style>\n",
       "<table border=\"1\" class=\"dataframe\">\n",
       "  <thead>\n",
       "    <tr style=\"text-align: right;\">\n",
       "      <th></th>\n",
       "      <th>username</th>\n",
       "      <th>prediction</th>\n",
       "      <th>actual</th>\n",
       "    </tr>\n",
       "  </thead>\n",
       "  <tbody>\n",
       "    <tr>\n",
       "      <th>2</th>\n",
       "      <td>ChrisPawelski</td>\n",
       "      <td>individual</td>\n",
       "      <td>individual</td>\n",
       "    </tr>\n",
       "    <tr>\n",
       "      <th>10</th>\n",
       "      <td>Arvidinvest</td>\n",
       "      <td>individual</td>\n",
       "      <td>individual</td>\n",
       "    </tr>\n",
       "    <tr>\n",
       "      <th>17</th>\n",
       "      <td>pattyshort</td>\n",
       "      <td>individual</td>\n",
       "      <td>individual</td>\n",
       "    </tr>\n",
       "    <tr>\n",
       "      <th>21</th>\n",
       "      <td>HarshnaParoha</td>\n",
       "      <td>individual</td>\n",
       "      <td>individual</td>\n",
       "    </tr>\n",
       "    <tr>\n",
       "      <th>23</th>\n",
       "      <td>jsare34</td>\n",
       "      <td>individual</td>\n",
       "      <td>individual</td>\n",
       "    </tr>\n",
       "  </tbody>\n",
       "</table>\n",
       "</div>"
      ],
      "text/plain": [
       "         username  prediction      actual\n",
       "2   ChrisPawelski  individual  individual\n",
       "10    Arvidinvest  individual  individual\n",
       "17     pattyshort  individual  individual\n",
       "21  HarshnaParoha  individual  individual\n",
       "23        jsare34  individual  individual"
      ]
     },
     "execution_count": 17,
     "metadata": {},
     "output_type": "execute_result"
    }
   ],
   "source": [
    "# joined dataset so we can see usernames and predictions/actual side by side\n",
    "merged_comparsion = df.join(comparison, how =\"inner\")\n",
    "merged_comparsion = merged_comparsion[[\"username\", \"prediction\", \"actual\"]]\n",
    "\n",
    "merged_comparsion.head()"
   ]
  },
  {
   "cell_type": "code",
   "execution_count": 19,
   "metadata": {},
   "outputs": [
    {
     "data": {
      "text/plain": [
       "0.9954725523486134"
      ]
     },
     "execution_count": 19,
     "metadata": {},
     "output_type": "execute_result"
    }
   ],
   "source": [
    "# Create a random forest classifier\n",
    "from sklearn.ensemble import RandomForestClassifier\n",
    "rf = RandomForestClassifier(n_estimators=200)\n",
    "rf = rf.fit(X_train, y_train)\n",
    "rf.score(X_train, y_train)"
   ]
  },
  {
   "cell_type": "code",
   "execution_count": 20,
   "metadata": {},
   "outputs": [
    {
     "data": {
      "text/plain": [
       "array([29.74523888, 54.15080507,  7.30441884,  1.68413465,  7.11540257])"
      ]
     },
     "execution_count": 20,
     "metadata": {},
     "output_type": "execute_result"
    }
   ],
   "source": [
    "# Get weights that machine defined, multiplied by 100 to get percents\n",
    "importances = rf.feature_importances_*100\n",
    "importances"
   ]
  },
  {
   "cell_type": "code",
   "execution_count": 21,
   "metadata": {},
   "outputs": [
    {
     "data": {
      "text/plain": [
       "[(54.15080506755916, 'color_number'),\n",
       " (29.745238875813087, 'face_detection'),\n",
       " (7.304418836684552, 'b_key_count'),\n",
       " (7.115402565934826, 'url_detect'),\n",
       " (1.6841346540083724, 'i_key_count')]"
      ]
     },
     "execution_count": 21,
     "metadata": {},
     "output_type": "execute_result"
    }
   ],
   "source": [
    "sorted(zip(importances, X), reverse=True)"
   ]
  },
  {
   "cell_type": "code",
   "execution_count": null,
   "metadata": {},
   "outputs": [],
   "source": []
  }
 ],
 "metadata": {
  "kernelspec": {
   "display_name": "Python 3",
   "language": "python",
   "name": "python3"
  },
  "language_info": {
   "codemirror_mode": {
    "name": "ipython",
    "version": 3
   },
   "file_extension": ".py",
   "mimetype": "text/x-python",
   "name": "python",
   "nbconvert_exporter": "python",
   "pygments_lexer": "ipython3",
   "version": "3.7.1"
  }
 },
 "nbformat": 4,
 "nbformat_minor": 2
}
