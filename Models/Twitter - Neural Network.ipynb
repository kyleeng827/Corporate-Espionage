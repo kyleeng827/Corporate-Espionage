{
 "cells": [
  {
   "cell_type": "code",
   "execution_count": 1,
   "metadata": {},
   "outputs": [],
   "source": [
    "import pandas as pd"
   ]
  },
  {
   "cell_type": "code",
   "execution_count": 2,
   "metadata": {},
   "outputs": [],
   "source": [
    "df = pd.read_csv(\"final_output.csv\", encoding = \"latin1\")"
   ]
  },
  {
   "cell_type": "code",
   "execution_count": 3,
   "metadata": {},
   "outputs": [
    {
     "data": {
      "text/html": [
       "<div>\n",
       "<style scoped>\n",
       "    .dataframe tbody tr th:only-of-type {\n",
       "        vertical-align: middle;\n",
       "    }\n",
       "\n",
       "    .dataframe tbody tr th {\n",
       "        vertical-align: top;\n",
       "    }\n",
       "\n",
       "    .dataframe thead th {\n",
       "        text-align: right;\n",
       "    }\n",
       "</style>\n",
       "<table border=\"1\" class=\"dataframe\">\n",
       "  <thead>\n",
       "    <tr style=\"text-align: right;\">\n",
       "      <th></th>\n",
       "      <th>label</th>\n",
       "      <th>id</th>\n",
       "      <th>name</th>\n",
       "      <th>username</th>\n",
       "      <th>bio</th>\n",
       "      <th>location</th>\n",
       "      <th>url</th>\n",
       "      <th>join_date</th>\n",
       "      <th>join_time</th>\n",
       "      <th>tweets</th>\n",
       "      <th>...</th>\n",
       "      <th>media</th>\n",
       "      <th>private</th>\n",
       "      <th>verified</th>\n",
       "      <th>profile_image_url</th>\n",
       "      <th>background_image</th>\n",
       "      <th>color_number</th>\n",
       "      <th>face_detection</th>\n",
       "      <th>follower/following_ratio</th>\n",
       "      <th>b_key_count</th>\n",
       "      <th>i_key_count</th>\n",
       "    </tr>\n",
       "  </thead>\n",
       "  <tbody>\n",
       "    <tr>\n",
       "      <th>0</th>\n",
       "      <td>individual</td>\n",
       "      <td>379823034</td>\n",
       "      <td>mohammed</td>\n",
       "      <td>BarcaMohammed</td>\n",
       "      <td>NaN</td>\n",
       "      <td>North Bergen</td>\n",
       "      <td>NaN</td>\n",
       "      <td>9/25/11</td>\n",
       "      <td>9:33:00</td>\n",
       "      <td>172.0</td>\n",
       "      <td>...</td>\n",
       "      <td>1.0</td>\n",
       "      <td>0.0</td>\n",
       "      <td>0.0</td>\n",
       "      <td>https://pbs.twimg.com/profile_images/166601617...</td>\n",
       "      <td>NaN</td>\n",
       "      <td>51912.0</td>\n",
       "      <td>0.0</td>\n",
       "      <td>0.023256</td>\n",
       "      <td>0.0</td>\n",
       "      <td>0.0</td>\n",
       "    </tr>\n",
       "    <tr>\n",
       "      <th>1</th>\n",
       "      <td>individual</td>\n",
       "      <td>931229576</td>\n",
       "      <td>SaMisches</td>\n",
       "      <td>Shmisch</td>\n",
       "      <td>NaN</td>\n",
       "      <td>NaN</td>\n",
       "      <td>NaN</td>\n",
       "      <td>11/6/12</td>\n",
       "      <td>20:41:00</td>\n",
       "      <td>6.0</td>\n",
       "      <td>...</td>\n",
       "      <td>3.0</td>\n",
       "      <td>0.0</td>\n",
       "      <td>0.0</td>\n",
       "      <td>https://pbs.twimg.com/profile_images/930857677...</td>\n",
       "      <td>NaN</td>\n",
       "      <td>31033.0</td>\n",
       "      <td>0.0</td>\n",
       "      <td>0.108696</td>\n",
       "      <td>0.0</td>\n",
       "      <td>0.0</td>\n",
       "    </tr>\n",
       "    <tr>\n",
       "      <th>2</th>\n",
       "      <td>individual</td>\n",
       "      <td>393095898</td>\n",
       "      <td>Christopher Pawelski</td>\n",
       "      <td>ChrisPawelski</td>\n",
       "      <td>A 4th generation family onion farmer married t...</td>\n",
       "      <td>Florida, NY</td>\n",
       "      <td>http://about.me/chris_pawelski</td>\n",
       "      <td>10/17/11</td>\n",
       "      <td>18:00:00</td>\n",
       "      <td>49503.0</td>\n",
       "      <td>...</td>\n",
       "      <td>23400.0</td>\n",
       "      <td>0.0</td>\n",
       "      <td>0.0</td>\n",
       "      <td>https://pbs.twimg.com/profile_images/686658233...</td>\n",
       "      <td>https://pbs.twimg.com/profile_banners/39309589...</td>\n",
       "      <td>46205.0</td>\n",
       "      <td>0.0</td>\n",
       "      <td>1.085431</td>\n",
       "      <td>0.0</td>\n",
       "      <td>1.0</td>\n",
       "    </tr>\n",
       "    <tr>\n",
       "      <th>3</th>\n",
       "      <td>individual</td>\n",
       "      <td>3109060051</td>\n",
       "      <td>xrishin</td>\n",
       "      <td>xrishin</td>\n",
       "      <td>NaN</td>\n",
       "      <td>NaN</td>\n",
       "      <td>NaN</td>\n",
       "      <td>3/26/15</td>\n",
       "      <td>19:39:00</td>\n",
       "      <td>3.0</td>\n",
       "      <td>...</td>\n",
       "      <td>0.0</td>\n",
       "      <td>1.0</td>\n",
       "      <td>0.0</td>\n",
       "      <td>https://abs.twimg.com/sticky/default_profile_i...</td>\n",
       "      <td>NaN</td>\n",
       "      <td>184.0</td>\n",
       "      <td>0.0</td>\n",
       "      <td>0.050000</td>\n",
       "      <td>0.0</td>\n",
       "      <td>0.0</td>\n",
       "    </tr>\n",
       "    <tr>\n",
       "      <th>4</th>\n",
       "      <td>business</td>\n",
       "      <td>1.13E+18</td>\n",
       "      <td>LENDVER</td>\n",
       "      <td>LendverLLC</td>\n",
       "      <td>BORROW CONFIDENTLY. We__Î¢_öÎå_Î¢ve do...</td>\n",
       "      <td>NaN</td>\n",
       "      <td>https://www.lendver.com/</td>\n",
       "      <td>5/29/19</td>\n",
       "      <td>7:32:00</td>\n",
       "      <td>2.0</td>\n",
       "      <td>...</td>\n",
       "      <td>1.0</td>\n",
       "      <td>0.0</td>\n",
       "      <td>0.0</td>\n",
       "      <td>https://pbs.twimg.com/profile_images/113375859...</td>\n",
       "      <td>https://pbs.twimg.com/profile_banners/11337428...</td>\n",
       "      <td>510.0</td>\n",
       "      <td>0.0</td>\n",
       "      <td>0.090909</td>\n",
       "      <td>0.0</td>\n",
       "      <td>0.0</td>\n",
       "    </tr>\n",
       "  </tbody>\n",
       "</table>\n",
       "<p>5 rows × 23 columns</p>\n",
       "</div>"
      ],
      "text/plain": [
       "        label          id                  name       username  \\\n",
       "0  individual   379823034              mohammed  BarcaMohammed   \n",
       "1  individual   931229576             SaMisches        Shmisch   \n",
       "2  individual   393095898  Christopher Pawelski  ChrisPawelski   \n",
       "3  individual  3109060051               xrishin        xrishin   \n",
       "4    business    1.13E+18               LENDVER     LendverLLC   \n",
       "\n",
       "                                                 bio      location  \\\n",
       "0                                                NaN  North Bergen   \n",
       "1                                                NaN           NaN   \n",
       "2  A 4th generation family onion farmer married t...   Florida, NY   \n",
       "3                                                NaN           NaN   \n",
       "4  BORROW CONFIDENTLY. We__Î¢_öÎå_Î¢ve do...           NaN   \n",
       "\n",
       "                              url join_date join_time   tweets     ...       \\\n",
       "0                             NaN   9/25/11   9:33:00    172.0     ...        \n",
       "1                             NaN   11/6/12  20:41:00      6.0     ...        \n",
       "2  http://about.me/chris_pawelski  10/17/11  18:00:00  49503.0     ...        \n",
       "3                             NaN   3/26/15  19:39:00      3.0     ...        \n",
       "4        https://www.lendver.com/   5/29/19   7:32:00      2.0     ...        \n",
       "\n",
       "     media private verified  \\\n",
       "0      1.0     0.0      0.0   \n",
       "1      3.0     0.0      0.0   \n",
       "2  23400.0     0.0      0.0   \n",
       "3      0.0     1.0      0.0   \n",
       "4      1.0     0.0      0.0   \n",
       "\n",
       "                                   profile_image_url  \\\n",
       "0  https://pbs.twimg.com/profile_images/166601617...   \n",
       "1  https://pbs.twimg.com/profile_images/930857677...   \n",
       "2  https://pbs.twimg.com/profile_images/686658233...   \n",
       "3  https://abs.twimg.com/sticky/default_profile_i...   \n",
       "4  https://pbs.twimg.com/profile_images/113375859...   \n",
       "\n",
       "                                    background_image  color_number  \\\n",
       "0                                                NaN       51912.0   \n",
       "1                                                NaN       31033.0   \n",
       "2  https://pbs.twimg.com/profile_banners/39309589...       46205.0   \n",
       "3                                                NaN         184.0   \n",
       "4  https://pbs.twimg.com/profile_banners/11337428...         510.0   \n",
       "\n",
       "  face_detection follower/following_ratio  b_key_count  i_key_count  \n",
       "0            0.0                 0.023256          0.0          0.0  \n",
       "1            0.0                 0.108696          0.0          0.0  \n",
       "2            0.0                 1.085431          0.0          1.0  \n",
       "3            0.0                 0.050000          0.0          0.0  \n",
       "4            0.0                 0.090909          0.0          0.0  \n",
       "\n",
       "[5 rows x 23 columns]"
      ]
     },
     "execution_count": 3,
     "metadata": {},
     "output_type": "execute_result"
    }
   ],
   "source": [
    "df.head()"
   ]
  },
  {
   "cell_type": "code",
   "execution_count": 52,
   "metadata": {},
   "outputs": [
    {
     "data": {
      "text/plain": [
       "(2357, 7)"
      ]
     },
     "execution_count": 52,
     "metadata": {},
     "output_type": "execute_result"
    }
   ],
   "source": [
    "df.shape"
   ]
  },
  {
   "cell_type": "code",
   "execution_count": 5,
   "metadata": {},
   "outputs": [
    {
     "data": {
      "text/plain": [
       "Index(['label', 'id', 'name', 'username', 'bio', 'location', 'url',\n",
       "       'join_date', 'join_time', 'tweets', 'following', 'followers', 'likes',\n",
       "       'media', 'private', 'verified', 'profile_image_url', 'background_image',\n",
       "       'color_number', 'face_detection', 'follower/following_ratio',\n",
       "       'b_key_count', 'i_key_count'],\n",
       "      dtype='object')"
      ]
     },
     "execution_count": 5,
     "metadata": {},
     "output_type": "execute_result"
    }
   ],
   "source": [
    "df.columns"
   ]
  },
  {
   "cell_type": "code",
   "execution_count": 6,
   "metadata": {},
   "outputs": [],
   "source": [
    "# 999 was a code we used when executing python face_detection library on twitter profile pictures. \n",
    "# Specifically, 999 indicated that there was an error/no picture found when iterating through thr profile pictures\n",
    "df = df[df.face_detection != 999]\n",
    "# code 1 was assigned if a face was deteced, code 0 was assigned if a face was not detected."
   ]
  },
  {
   "cell_type": "code",
   "execution_count": 7,
   "metadata": {},
   "outputs": [
    {
     "data": {
      "text/plain": [
       "(11264, 23)"
      ]
     },
     "execution_count": 7,
     "metadata": {},
     "output_type": "execute_result"
    }
   ],
   "source": [
    "df.shape"
   ]
  },
  {
   "cell_type": "code",
   "execution_count": 8,
   "metadata": {},
   "outputs": [],
   "source": [
    "# Create a column in dataframe indicating whether a url was linked on the twitter page or not. \n",
    "# If a url was detected, code 1 was assigned, else, 0 was assigned.\n",
    "array = []\n",
    "for i in list(df[\"url\"]):\n",
    "    if str(i) != \"nan\":\n",
    "        array.append(1)\n",
    "    else:\n",
    "        array.append(0)\n",
    "df[\"url_detect\"] = array"
   ]
  },
  {
   "cell_type": "code",
   "execution_count": 9,
   "metadata": {},
   "outputs": [],
   "source": [
    "# color_number column is a column that gives a count of the number of colors a profile picture has.\n",
    "# We noticed that pictures with 184 colors all linked to the same default twitter profile picture.\n",
    "# Since no face recognition or insightful color count can be returned and properly evaluated by the model,\n",
    "# we decided to drop all rows that have a color count of 184.\n",
    "# Coincidentally, we noticed color_number = 0 all corresponding face_detection = 999.\n",
    "# Even though that was already dropped, we decided to add this precaution in case this was used on future scraped data\n",
    "df = df[(df.color_number != 184) & (df.color_number !=0)]"
   ]
  },
  {
   "cell_type": "code",
   "execution_count": 10,
   "metadata": {},
   "outputs": [
    {
     "data": {
      "text/plain": [
       "(10467, 24)"
      ]
     },
     "execution_count": 10,
     "metadata": {},
     "output_type": "execute_result"
    }
   ],
   "source": [
    "df.shape"
   ]
  },
  {
   "cell_type": "code",
   "execution_count": 11,
   "metadata": {},
   "outputs": [],
   "source": [
    "# Dataset used had 11401 rows, unclassified as business or not. Our team went into each twitter page to classify\n",
    "# whether the page was a business or individual. Since 1000s of rows could not be manually classified, \n",
    "# we dropped many unclassified rows\n",
    "df = df.loc[(df[\"label\"] == \"individual\") | (df[\"label\"] == \"business\"), :]"
   ]
  },
  {
   "cell_type": "code",
   "execution_count": 12,
   "metadata": {},
   "outputs": [
    {
     "data": {
      "text/plain": [
       "(2359, 24)"
      ]
     },
     "execution_count": 12,
     "metadata": {},
     "output_type": "execute_result"
    }
   ],
   "source": [
    "df.shape"
   ]
  },
  {
   "cell_type": "code",
   "execution_count": 13,
   "metadata": {},
   "outputs": [],
   "source": [
    "# Drop columns we dont need for modeling\n",
    "# df = df.drop(columns = [\"name\", \"id\", \"url\", \"bio\", \"location\", \"join_date\", \"join_time\", \\\n",
    "#                         \"private\", \"verified\", \"profile_image_url\", \"background_image\"])\n",
    "df = df[[\"label\", \"username\", \"face_detection\", \"color_number\", \"b_key_count\", \"i_key_count\", \"url_detect\"]]"
   ]
  },
  {
   "cell_type": "code",
   "execution_count": 14,
   "metadata": {},
   "outputs": [],
   "source": [
    "df = df.dropna(how=\"any\")\n",
    "\n",
    "# Dropping data must be the last step, because there are blank fields in the dropped columns, which may have values\n",
    "# in the variables we will take into consideration. Dropping pre-emptively will drop many rows unnecessarily"
   ]
  },
  {
   "cell_type": "code",
   "execution_count": 15,
   "metadata": {},
   "outputs": [
    {
     "data": {
      "text/plain": [
       "(2357, 7)"
      ]
     },
     "execution_count": 15,
     "metadata": {},
     "output_type": "execute_result"
    }
   ],
   "source": [
    "df.shape"
   ]
  },
  {
   "cell_type": "code",
   "execution_count": 16,
   "metadata": {},
   "outputs": [
    {
     "data": {
      "text/html": [
       "<div>\n",
       "<style scoped>\n",
       "    .dataframe tbody tr th:only-of-type {\n",
       "        vertical-align: middle;\n",
       "    }\n",
       "\n",
       "    .dataframe tbody tr th {\n",
       "        vertical-align: top;\n",
       "    }\n",
       "\n",
       "    .dataframe thead th {\n",
       "        text-align: right;\n",
       "    }\n",
       "</style>\n",
       "<table border=\"1\" class=\"dataframe\">\n",
       "  <thead>\n",
       "    <tr style=\"text-align: right;\">\n",
       "      <th></th>\n",
       "      <th>label</th>\n",
       "      <th>username</th>\n",
       "      <th>face_detection</th>\n",
       "      <th>color_number</th>\n",
       "      <th>b_key_count</th>\n",
       "      <th>i_key_count</th>\n",
       "      <th>url_detect</th>\n",
       "    </tr>\n",
       "  </thead>\n",
       "  <tbody>\n",
       "    <tr>\n",
       "      <th>0</th>\n",
       "      <td>individual</td>\n",
       "      <td>BarcaMohammed</td>\n",
       "      <td>0.0</td>\n",
       "      <td>51912.0</td>\n",
       "      <td>0.0</td>\n",
       "      <td>0.0</td>\n",
       "      <td>0</td>\n",
       "    </tr>\n",
       "    <tr>\n",
       "      <th>1</th>\n",
       "      <td>individual</td>\n",
       "      <td>Shmisch</td>\n",
       "      <td>0.0</td>\n",
       "      <td>31033.0</td>\n",
       "      <td>0.0</td>\n",
       "      <td>0.0</td>\n",
       "      <td>0</td>\n",
       "    </tr>\n",
       "    <tr>\n",
       "      <th>2</th>\n",
       "      <td>individual</td>\n",
       "      <td>ChrisPawelski</td>\n",
       "      <td>0.0</td>\n",
       "      <td>46205.0</td>\n",
       "      <td>0.0</td>\n",
       "      <td>1.0</td>\n",
       "      <td>1</td>\n",
       "    </tr>\n",
       "    <tr>\n",
       "      <th>4</th>\n",
       "      <td>business</td>\n",
       "      <td>LendverLLC</td>\n",
       "      <td>0.0</td>\n",
       "      <td>510.0</td>\n",
       "      <td>0.0</td>\n",
       "      <td>0.0</td>\n",
       "      <td>1</td>\n",
       "    </tr>\n",
       "    <tr>\n",
       "      <th>6</th>\n",
       "      <td>individual</td>\n",
       "      <td>ClaretSport</td>\n",
       "      <td>1.0</td>\n",
       "      <td>41897.0</td>\n",
       "      <td>0.0</td>\n",
       "      <td>0.0</td>\n",
       "      <td>1</td>\n",
       "    </tr>\n",
       "  </tbody>\n",
       "</table>\n",
       "</div>"
      ],
      "text/plain": [
       "        label       username  face_detection  color_number  b_key_count  \\\n",
       "0  individual  BarcaMohammed             0.0       51912.0          0.0   \n",
       "1  individual        Shmisch             0.0       31033.0          0.0   \n",
       "2  individual  ChrisPawelski             0.0       46205.0          0.0   \n",
       "4    business     LendverLLC             0.0         510.0          0.0   \n",
       "6  individual    ClaretSport             1.0       41897.0          0.0   \n",
       "\n",
       "   i_key_count  url_detect  \n",
       "0          0.0           0  \n",
       "1          0.0           0  \n",
       "2          1.0           1  \n",
       "4          0.0           1  \n",
       "6          0.0           1  "
      ]
     },
     "execution_count": 16,
     "metadata": {},
     "output_type": "execute_result"
    }
   ],
   "source": [
    "df.head()"
   ]
  },
  {
   "cell_type": "code",
   "execution_count": 17,
   "metadata": {},
   "outputs": [
    {
     "name": "stdout",
     "output_type": "stream",
     "text": [
      "(2357, 5) (2357,)\n"
     ]
    }
   ],
   "source": [
    "# Assign X (data) and y (target)\n",
    "X = df.drop([\"label\", \"username\"], axis=1)\n",
    "y = df[\"label\"]\n",
    "print(X.shape, y.shape)"
   ]
  },
  {
   "cell_type": "code",
   "execution_count": 18,
   "metadata": {},
   "outputs": [],
   "source": [
    "from sklearn.model_selection import train_test_split\n",
    "\n",
    "X_train, X_test, y_train, y_test = train_test_split(X, y, random_state=1, stratify=y)"
   ]
  },
  {
   "cell_type": "code",
   "execution_count": 19,
   "metadata": {},
   "outputs": [
    {
     "name": "stderr",
     "output_type": "stream",
     "text": [
      "/Users/kyleeng/anaconda3/envs/PythonData/lib/python3.7/site-packages/sklearn/preprocessing/data.py:625: DataConversionWarning: Data with input dtype int64, float64 were all converted to float64 by StandardScaler.\n",
      "  return self.partial_fit(X, y)\n"
     ]
    }
   ],
   "source": [
    "from sklearn.preprocessing import StandardScaler\n",
    "\n",
    "# Create a StandardScater model and fit it to the training data\n",
    "X_scaler = StandardScaler().fit(X_train)"
   ]
  },
  {
   "cell_type": "code",
   "execution_count": 20,
   "metadata": {},
   "outputs": [
    {
     "name": "stderr",
     "output_type": "stream",
     "text": [
      "/Users/kyleeng/anaconda3/envs/PythonData/lib/python3.7/site-packages/ipykernel_launcher.py:3: DataConversionWarning: Data with input dtype int64, float64 were all converted to float64 by StandardScaler.\n",
      "  This is separate from the ipykernel package so we can avoid doing imports until\n",
      "/Users/kyleeng/anaconda3/envs/PythonData/lib/python3.7/site-packages/ipykernel_launcher.py:4: DataConversionWarning: Data with input dtype int64, float64 were all converted to float64 by StandardScaler.\n",
      "  after removing the cwd from sys.path.\n"
     ]
    }
   ],
   "source": [
    "# Transform the training and testing data using the X_scaler\n",
    "\n",
    "X_train_scaled = X_scaler.transform(X_train)\n",
    "X_test_scaled = X_scaler.transform(X_test)"
   ]
  },
  {
   "cell_type": "code",
   "execution_count": 21,
   "metadata": {},
   "outputs": [
    {
     "name": "stderr",
     "output_type": "stream",
     "text": [
      "Using TensorFlow backend.\n"
     ]
    }
   ],
   "source": [
    "from sklearn.preprocessing import LabelEncoder\n",
    "from keras.utils import to_categorical\n",
    "\n",
    "# Step 1: Label-encode data set (y_train was previously \"business\" or \"individual\", which needed to be numbers) \n",
    "label_encoder = LabelEncoder()\n",
    "label_encoder.fit(y_train)\n",
    "encoded_y_train = label_encoder.transform(y_train)\n",
    "encoded_y_test = label_encoder.transform(y_test)\n",
    "\n",
    "\n",
    "# Step 2: Convert encoded labels to one-hot-encoding\n",
    "y_train_categorical = to_categorical(encoded_y_train)\n",
    "y_test_categorical = to_categorical(encoded_y_test)"
   ]
  },
  {
   "cell_type": "code",
   "execution_count": 22,
   "metadata": {},
   "outputs": [
    {
     "name": "stdout",
     "output_type": "stream",
     "text": [
      "WARNING:tensorflow:From /Users/kyleeng/anaconda3/envs/PythonData/lib/python3.7/site-packages/tensorflow/python/ops/resource_variable_ops.py:435: colocate_with (from tensorflow.python.framework.ops) is deprecated and will be removed in a future version.\n",
      "Instructions for updating:\n",
      "Colocations handled automatically by placer.\n"
     ]
    }
   ],
   "source": [
    "# first, create a normal neural network with 5 inputs, 6 hidden nodes, and 2 outputs\n",
    "from tensorflow.keras.models import Sequential\n",
    "from tensorflow.keras.layers import Dense\n",
    "\n",
    "model = Sequential()\n",
    "model.add(Dense(units=6, activation='tanh', input_dim=5))\n",
    "model.add(Dense(units=2, activation='softmax'))"
   ]
  },
  {
   "cell_type": "code",
   "execution_count": 23,
   "metadata": {},
   "outputs": [
    {
     "name": "stdout",
     "output_type": "stream",
     "text": [
      "_________________________________________________________________\n",
      "Layer (type)                 Output Shape              Param #   \n",
      "=================================================================\n",
      "dense (Dense)                (None, 6)                 36        \n",
      "_________________________________________________________________\n",
      "dense_1 (Dense)              (None, 2)                 14        \n",
      "=================================================================\n",
      "Total params: 50\n",
      "Trainable params: 50\n",
      "Non-trainable params: 0\n",
      "_________________________________________________________________\n"
     ]
    }
   ],
   "source": [
    "model.summary()"
   ]
  },
  {
   "cell_type": "code",
   "execution_count": 24,
   "metadata": {},
   "outputs": [],
   "source": [
    "# Compile the model\n",
    "model.compile(optimizer='adam',\n",
    "              loss='categorical_crossentropy',\n",
    "              metrics=['accuracy'])"
   ]
  },
  {
   "cell_type": "code",
   "execution_count": 25,
   "metadata": {
    "scrolled": true
   },
   "outputs": [
    {
     "name": "stdout",
     "output_type": "stream",
     "text": [
      "WARNING:tensorflow:From /Users/kyleeng/anaconda3/envs/PythonData/lib/python3.7/site-packages/tensorflow/python/ops/math_ops.py:3066: to_int32 (from tensorflow.python.ops.math_ops) is deprecated and will be removed in a future version.\n",
      "Instructions for updating:\n",
      "Use tf.cast instead.\n"
     ]
    }
   ],
   "source": [
    "# Fit the model to the training data\n",
    "fit = model.fit(\n",
    "    X_train_scaled,\n",
    "    y_train_categorical,\n",
    "    epochs=100,\n",
    "    shuffle=True,\n",
    "    verbose=0\n",
    ")"
   ]
  },
  {
   "cell_type": "code",
   "execution_count": 26,
   "metadata": {},
   "outputs": [
    {
     "data": {
      "text/plain": [
       "<Figure size 640x480 with 1 Axes>"
      ]
     },
     "metadata": {},
     "output_type": "display_data"
    }
   ],
   "source": [
    "import matplotlib.pyplot as plt\n",
    "# Plot training accuracy by Epoch\n",
    "\n",
    "plt.plot(fit.history['acc'])\n",
    "plt.title('Normal Neural Network Model Accuracy')\n",
    "plt.ylabel('Accuracy')\n",
    "plt.xlabel('Epoch')\n",
    "plt.legend(['Train'], loc='upper left')\n",
    "plt.show()"
   ]
  },
  {
   "cell_type": "code",
   "execution_count": 27,
   "metadata": {},
   "outputs": [],
   "source": [
    "deep_model = Sequential()\n",
    "deep_model.add(Dense(units=2, activation='tanh', input_dim=5))\n",
    "deep_model.add(Dense(units=2, activation='relu'))\n",
    "deep_model.add(Dense(units=2, activation='softmax'))"
   ]
  },
  {
   "cell_type": "code",
   "execution_count": 28,
   "metadata": {},
   "outputs": [],
   "source": [
    "deep_model.compile(optimizer='adam',\n",
    "                   loss='categorical_crossentropy',\n",
    "                   metrics=['accuracy'])\n",
    "\n",
    "deep_fit = deep_model.fit(\n",
    "    X_train_scaled,\n",
    "    y_train_categorical,\n",
    "    epochs=100,\n",
    "    shuffle=True,\n",
    "    verbose=0\n",
    ")"
   ]
  },
  {
   "cell_type": "code",
   "execution_count": 29,
   "metadata": {},
   "outputs": [
    {
     "data": {
      "image/png": "[encoded data removed]",
      "text/plain": [
       "<Figure size 432x288 with 1 Axes>"
      ]
     },
     "metadata": {
      "needs_background": "light"
     },
     "output_type": "display_data"
    }
   ],
   "source": [
    "plt.plot(deep_fit.history['acc'])\n",
    "plt.title('Deep Neaural Network Model Accuracy')\n",
    "plt.ylabel('Accuracy')\n",
    "plt.xlabel('Epoch')\n",
    "plt.legend(['Train'], loc='upper left')\n",
    "plt.show()"
   ]
  },
  {
   "cell_type": "code",
   "execution_count": 30,
   "metadata": {},
   "outputs": [
    {
     "name": "stdout",
     "output_type": "stream",
     "text": [
      " - 0s - loss: 0.2697 - acc: 0.9034\n",
      "Normal Neural Network - Loss: 0.26970285833892177, Accuracy: 0.9033898115158081\n"
     ]
    }
   ],
   "source": [
    "model_loss, model_accuracy = model.evaluate(\n",
    "    X_test_scaled, y_test_categorical, verbose=2)\n",
    "print(\n",
    "    f\"Normal Neural Network - Loss: {model_loss}, Accuracy: {model_accuracy}\")"
   ]
  },
  {
   "cell_type": "code",
   "execution_count": 31,
   "metadata": {},
   "outputs": [
    {
     "name": "stdout",
     "output_type": "stream",
     "text": [
      " - 0s - loss: 0.2770 - acc: 0.9000\n",
      "Deep Neural Network - Loss: 0.27698996940911824, Accuracy: 0.8999999761581421\n"
     ]
    }
   ],
   "source": [
    "model_loss, model_accuracy = deep_model.evaluate(\n",
    "    X_test_scaled, y_test_categorical, verbose=2)\n",
    "print(f\"Deep Neural Network - Loss: {model_loss}, Accuracy: {model_accuracy}\")"
   ]
  },
  {
   "cell_type": "code",
   "execution_count": 32,
   "metadata": {},
   "outputs": [],
   "source": [
    "# Save the model\n",
    "model.save(\"twitter_normal_neural_trained.h5\")"
   ]
  },
  {
   "cell_type": "code",
   "execution_count": 33,
   "metadata": {},
   "outputs": [
    {
     "data": {
      "text/plain": [
       "0.9949066213921901"
      ]
     },
     "execution_count": 33,
     "metadata": {},
     "output_type": "execute_result"
    }
   ],
   "source": [
    "# Create a random forest classifier\n",
    "from sklearn.ensemble import RandomForestClassifier\n",
    "rf = RandomForestClassifier(n_estimators=200)\n",
    "rf = rf.fit(X_train_scaled, y_train_categorical)\n",
    "rf.score(X_train_scaled, y_train_categorical)"
   ]
  },
  {
   "cell_type": "code",
   "execution_count": 34,
   "metadata": {},
   "outputs": [
    {
     "data": {
      "text/plain": [
       "array([29.14403578, 53.62206409,  8.5650469 ,  1.79430819,  6.87454503])"
      ]
     },
     "execution_count": 34,
     "metadata": {},
     "output_type": "execute_result"
    }
   ],
   "source": [
    "# Get weights that machine defined, multiplied by 100 to get percents\n",
    "importances = rf.feature_importances_*100\n",
    "importances"
   ]
  },
  {
   "cell_type": "code",
   "execution_count": 50,
   "metadata": {},
   "outputs": [],
   "source": [
    "# Create data frame of features and their importance; convert to csv\n",
    "feature_importances = sorted(zip(importances, X), reverse=True)\n",
    "feature_importances = list(feature_importances)\n",
    "feature_importances = pd.DataFrame(feature_importances, columns = [\"Importance\", \"Feature Name\"])\n",
    "feature_importances.to_csv(\"Outputs/feature_importances.csv\", index=False)"
   ]
  },
  {
   "cell_type": "code",
   "execution_count": 36,
   "metadata": {},
   "outputs": [
    {
     "data": {
      "image/png": "[encoded data removed]",
      "text/plain": [
       "<Figure size 432x288 with 1 Axes>"
      ]
     },
     "metadata": {},
     "output_type": "display_data"
    }
   ],
   "source": [
    "#  Plot feature importances\n",
    "labels = [label.title().replace(\"_\", \" \").replace(\"B\", \"Business\").replace(\"I\", \"Individual\") \\\n",
    "          for label in feature_importances[\"Feature Name\"]]\n",
    "\n",
    "plt.pie(feature_importances[\"Importance\"], labels=labels,\n",
    "        autopct=\"%1.2f%%\", shadow=True, startangle=65, radius=4)\n",
    "plt.title(\"Feature Importances\", y = 2.25, fontsize = 26)\n",
    "plt.show()"
   ]
  },
  {
   "cell_type": "code",
   "execution_count": 37,
   "metadata": {},
   "outputs": [
    {
     "data": {
      "text/html": [
       "<div>\n",
       "<style scoped>\n",
       "    .dataframe tbody tr th:only-of-type {\n",
       "        vertical-align: middle;\n",
       "    }\n",
       "\n",
       "    .dataframe tbody tr th {\n",
       "        vertical-align: top;\n",
       "    }\n",
       "\n",
       "    .dataframe thead th {\n",
       "        text-align: right;\n",
       "    }\n",
       "</style>\n",
       "<table border=\"1\" class=\"dataframe\">\n",
       "  <thead>\n",
       "    <tr style=\"text-align: right;\">\n",
       "      <th></th>\n",
       "      <th>prediction</th>\n",
       "      <th>actual</th>\n",
       "    </tr>\n",
       "  </thead>\n",
       "  <tbody>\n",
       "    <tr>\n",
       "      <th>10300</th>\n",
       "      <td>business</td>\n",
       "      <td>business</td>\n",
       "    </tr>\n",
       "    <tr>\n",
       "      <th>1404</th>\n",
       "      <td>individual</td>\n",
       "      <td>individual</td>\n",
       "    </tr>\n",
       "    <tr>\n",
       "      <th>10284</th>\n",
       "      <td>individual</td>\n",
       "      <td>individual</td>\n",
       "    </tr>\n",
       "    <tr>\n",
       "      <th>2494</th>\n",
       "      <td>business</td>\n",
       "      <td>business</td>\n",
       "    </tr>\n",
       "    <tr>\n",
       "      <th>1935</th>\n",
       "      <td>business</td>\n",
       "      <td>individual</td>\n",
       "    </tr>\n",
       "  </tbody>\n",
       "</table>\n",
       "</div>"
      ],
      "text/plain": [
       "       prediction      actual\n",
       "10300    business    business\n",
       "1404   individual  individual\n",
       "10284  individual  individual\n",
       "2494     business    business\n",
       "1935     business  individual"
      ]
     },
     "execution_count": 37,
     "metadata": {},
     "output_type": "execute_result"
    }
   ],
   "source": [
    "encoded_predictions = model.predict_classes(X_test_scaled)\n",
    "prediction_labels = label_encoder.inverse_transform(encoded_predictions)\n",
    "comparison = pd.DataFrame({\"prediction\": prediction_labels, \"actual\": y_test})\n",
    "comparison.head()"
   ]
  },
  {
   "cell_type": "code",
   "execution_count": 38,
   "metadata": {},
   "outputs": [
    {
     "data": {
      "text/html": [
       "<div>\n",
       "<style scoped>\n",
       "    .dataframe tbody tr th:only-of-type {\n",
       "        vertical-align: middle;\n",
       "    }\n",
       "\n",
       "    .dataframe tbody tr th {\n",
       "        vertical-align: top;\n",
       "    }\n",
       "\n",
       "    .dataframe thead th {\n",
       "        text-align: right;\n",
       "    }\n",
       "</style>\n",
       "<table border=\"1\" class=\"dataframe\">\n",
       "  <thead>\n",
       "    <tr style=\"text-align: right;\">\n",
       "      <th></th>\n",
       "      <th>username</th>\n",
       "      <th>prediction</th>\n",
       "      <th>actual</th>\n",
       "    </tr>\n",
       "  </thead>\n",
       "  <tbody>\n",
       "    <tr>\n",
       "      <th>2</th>\n",
       "      <td>ChrisPawelski</td>\n",
       "      <td>individual</td>\n",
       "      <td>individual</td>\n",
       "    </tr>\n",
       "    <tr>\n",
       "      <th>10</th>\n",
       "      <td>Arvidinvest</td>\n",
       "      <td>individual</td>\n",
       "      <td>individual</td>\n",
       "    </tr>\n",
       "    <tr>\n",
       "      <th>17</th>\n",
       "      <td>pattyshort</td>\n",
       "      <td>individual</td>\n",
       "      <td>individual</td>\n",
       "    </tr>\n",
       "    <tr>\n",
       "      <th>21</th>\n",
       "      <td>HarshnaParoha</td>\n",
       "      <td>individual</td>\n",
       "      <td>individual</td>\n",
       "    </tr>\n",
       "    <tr>\n",
       "      <th>23</th>\n",
       "      <td>jsare34</td>\n",
       "      <td>individual</td>\n",
       "      <td>individual</td>\n",
       "    </tr>\n",
       "  </tbody>\n",
       "</table>\n",
       "</div>"
      ],
      "text/plain": [
       "         username  prediction      actual\n",
       "2   ChrisPawelski  individual  individual\n",
       "10    Arvidinvest  individual  individual\n",
       "17     pattyshort  individual  individual\n",
       "21  HarshnaParoha  individual  individual\n",
       "23        jsare34  individual  individual"
      ]
     },
     "execution_count": 38,
     "metadata": {},
     "output_type": "execute_result"
    }
   ],
   "source": [
    "# joined dataset so we can see usernames and predictions/actual side by side\n",
    "merged_comparsion = df.join(comparison)\n",
    "merged_comparsion = merged_comparsion[[\"username\", \"prediction\", \"actual\"]]\n",
    "merged_comparsion = merged_comparsion.dropna(how=\"any\")\n",
    "merged_comparsion.head()"
   ]
  },
  {
   "cell_type": "code",
   "execution_count": 49,
   "metadata": {},
   "outputs": [],
   "source": [
    "merged_comparsion.to_csv(\"Outputs/merged_comparsion_test.csv\", index=False)"
   ]
  },
  {
   "cell_type": "code",
   "execution_count": 40,
   "metadata": {},
   "outputs": [
    {
     "data": {
      "text/html": [
       "<div>\n",
       "<style scoped>\n",
       "    .dataframe tbody tr th:only-of-type {\n",
       "        vertical-align: middle;\n",
       "    }\n",
       "\n",
       "    .dataframe tbody tr th {\n",
       "        vertical-align: top;\n",
       "    }\n",
       "\n",
       "    .dataframe thead th {\n",
       "        text-align: right;\n",
       "    }\n",
       "</style>\n",
       "<table border=\"1\" class=\"dataframe\">\n",
       "  <thead>\n",
       "    <tr style=\"text-align: right;\">\n",
       "      <th></th>\n",
       "      <th>prediction</th>\n",
       "      <th>actual</th>\n",
       "    </tr>\n",
       "  </thead>\n",
       "  <tbody>\n",
       "    <tr>\n",
       "      <th>1935</th>\n",
       "      <td>business</td>\n",
       "      <td>individual</td>\n",
       "    </tr>\n",
       "    <tr>\n",
       "      <th>629</th>\n",
       "      <td>individual</td>\n",
       "      <td>business</td>\n",
       "    </tr>\n",
       "    <tr>\n",
       "      <th>487</th>\n",
       "      <td>business</td>\n",
       "      <td>individual</td>\n",
       "    </tr>\n",
       "    <tr>\n",
       "      <th>1385</th>\n",
       "      <td>individual</td>\n",
       "      <td>business</td>\n",
       "    </tr>\n",
       "    <tr>\n",
       "      <th>317</th>\n",
       "      <td>individual</td>\n",
       "      <td>business</td>\n",
       "    </tr>\n",
       "  </tbody>\n",
       "</table>\n",
       "</div>"
      ],
      "text/plain": [
       "      prediction      actual\n",
       "1935    business  individual\n",
       "629   individual    business\n",
       "487     business  individual\n",
       "1385  individual    business\n",
       "317   individual    business"
      ]
     },
     "execution_count": 40,
     "metadata": {},
     "output_type": "execute_result"
    }
   ],
   "source": [
    "# get rows in which the predicted did not match the actual data\n",
    "discrepencies = comparison[comparison[\"prediction\"] != comparison[\"actual\"]]\n",
    "discrepencies.head()"
   ]
  },
  {
   "cell_type": "code",
   "execution_count": 55,
   "metadata": {},
   "outputs": [
    {
     "data": {
      "text/plain": [
       "(32, 2)"
      ]
     },
     "execution_count": 55,
     "metadata": {},
     "output_type": "execute_result"
    }
   ],
   "source": [
    "business_discrepencies = discrepencies.loc[(discrepencies[\"prediction\"] == \"business\"), :]\n",
    "business_discrepencies.shape"
   ]
  },
  {
   "cell_type": "code",
   "execution_count": 56,
   "metadata": {},
   "outputs": [
    {
     "data": {
      "text/plain": [
       "(25, 2)"
      ]
     },
     "execution_count": 56,
     "metadata": {},
     "output_type": "execute_result"
    }
   ],
   "source": [
    "individual_discrepencies = discrepencies.loc[(discrepencies[\"prediction\"] == \"individual\"), :]\n",
    "individual_discrepencies.shape"
   ]
  },
  {
   "cell_type": "code",
   "execution_count": 41,
   "metadata": {},
   "outputs": [
    {
     "data": {
      "text/html": [
       "<div>\n",
       "<style scoped>\n",
       "    .dataframe tbody tr th:only-of-type {\n",
       "        vertical-align: middle;\n",
       "    }\n",
       "\n",
       "    .dataframe tbody tr th {\n",
       "        vertical-align: top;\n",
       "    }\n",
       "\n",
       "    .dataframe thead th {\n",
       "        text-align: right;\n",
       "    }\n",
       "</style>\n",
       "<table border=\"1\" class=\"dataframe\">\n",
       "  <thead>\n",
       "    <tr style=\"text-align: right;\">\n",
       "      <th></th>\n",
       "      <th>username</th>\n",
       "      <th>face_detection</th>\n",
       "      <th>color_number</th>\n",
       "      <th>b_key_count</th>\n",
       "      <th>i_key_count</th>\n",
       "      <th>url_detect</th>\n",
       "      <th>prediction</th>\n",
       "      <th>actual</th>\n",
       "    </tr>\n",
       "  </thead>\n",
       "  <tbody>\n",
       "    <tr>\n",
       "      <th>50</th>\n",
       "      <td>72Services</td>\n",
       "      <td>1.0</td>\n",
       "      <td>33542.0</td>\n",
       "      <td>0.0</td>\n",
       "      <td>0.0</td>\n",
       "      <td>1</td>\n",
       "      <td>individual</td>\n",
       "      <td>business</td>\n",
       "    </tr>\n",
       "    <tr>\n",
       "      <th>128</th>\n",
       "      <td>smcolonius</td>\n",
       "      <td>0.0</td>\n",
       "      <td>5265.0</td>\n",
       "      <td>0.0</td>\n",
       "      <td>0.0</td>\n",
       "      <td>1</td>\n",
       "      <td>business</td>\n",
       "      <td>individual</td>\n",
       "    </tr>\n",
       "    <tr>\n",
       "      <th>166</th>\n",
       "      <td>EduardoVega01</td>\n",
       "      <td>0.0</td>\n",
       "      <td>8172.0</td>\n",
       "      <td>0.0</td>\n",
       "      <td>0.0</td>\n",
       "      <td>1</td>\n",
       "      <td>business</td>\n",
       "      <td>individual</td>\n",
       "    </tr>\n",
       "    <tr>\n",
       "      <th>184</th>\n",
       "      <td>ASFASTAS1232</td>\n",
       "      <td>0.0</td>\n",
       "      <td>4246.0</td>\n",
       "      <td>0.0</td>\n",
       "      <td>0.0</td>\n",
       "      <td>1</td>\n",
       "      <td>business</td>\n",
       "      <td>individual</td>\n",
       "    </tr>\n",
       "    <tr>\n",
       "      <th>225</th>\n",
       "      <td>stephanieybk</td>\n",
       "      <td>0.0</td>\n",
       "      <td>65.0</td>\n",
       "      <td>0.0</td>\n",
       "      <td>0.0</td>\n",
       "      <td>0</td>\n",
       "      <td>business</td>\n",
       "      <td>individual</td>\n",
       "    </tr>\n",
       "  </tbody>\n",
       "</table>\n",
       "</div>"
      ],
      "text/plain": [
       "          username  face_detection  color_number  b_key_count  i_key_count  \\\n",
       "50      72Services             1.0       33542.0          0.0          0.0   \n",
       "128     smcolonius             0.0        5265.0          0.0          0.0   \n",
       "166  EduardoVega01             0.0        8172.0          0.0          0.0   \n",
       "184   ASFASTAS1232             0.0        4246.0          0.0          0.0   \n",
       "225   stephanieybk             0.0          65.0          0.0          0.0   \n",
       "\n",
       "     url_detect  prediction      actual  \n",
       "50            1  individual    business  \n",
       "128           1    business  individual  \n",
       "166           1    business  individual  \n",
       "184           1    business  individual  \n",
       "225           0    business  individual  "
      ]
     },
     "execution_count": 41,
     "metadata": {},
     "output_type": "execute_result"
    }
   ],
   "source": [
    "# join data frames to include username and join on index; index number was previously retained\n",
    "merged_discrepencies = df.join(discrepencies)\n",
    "merged_discrepencies = merged_discrepencies[[\"username\", \"face_detection\", \"color_number\", \\\n",
    "                                             \"b_key_count\", \"i_key_count\", \"url_detect\", \"prediction\", \"actual\"]]\n",
    "merged_discrepencies = merged_discrepencies.dropna(how=\"any\")\n",
    "merged_discrepencies.head()"
   ]
  },
  {
   "cell_type": "code",
   "execution_count": 42,
   "metadata": {},
   "outputs": [
    {
     "data": {
      "text/plain": [
       "(8016, 5)"
      ]
     },
     "execution_count": 42,
     "metadata": {},
     "output_type": "execute_result"
    }
   ],
   "source": [
    "# Pre-processing. All the same steps as was done on test data set\n",
    "\n",
    "unclassified = pd.read_csv(\"final_output.csv\", encoding =\"latin1\")\n",
    "\n",
    "unclassified = unclassified[unclassified.face_detection != 999]\n",
    "\n",
    "array = []\n",
    "for i in list(unclassified[\"url\"]):\n",
    "    if str(i) != \"nan\":\n",
    "        array.append(1)\n",
    "    else:\n",
    "        array.append(0)\n",
    "unclassified[\"url_detect\"] = array\n",
    "\n",
    "unclassified = unclassified[(unclassified.color_number != 184) & (unclassified.color_number !=0)]\n",
    "\n",
    "unclassified = unclassified[[\"label\", \"username\", \"face_detection\", \"color_number\", \\\n",
    "                             \"b_key_count\", \"i_key_count\", \"url_detect\"]]\n",
    "\n",
    "# get only nan values from label\n",
    "unclassified = unclassified[unclassified.label != \"business\"]\n",
    "unclassified = unclassified[unclassified.label != \"individual\"]\n",
    "\n",
    "# add index number column for a join\n",
    "unclassified = unclassified.reset_index()\n",
    "# Will need to drop all NaN values, but cannot do this without removing label column from data frame.\n",
    "# Create temporary data frame with index column so it can be later joined\n",
    "unclassified_label = unclassified[[\"index\", \"label\"]]\n",
    "# unclassified = unclassified.drop([\"label\"], axis=1)\n",
    "unclassified = unclassified.drop([\"label\"], axis=1)\n",
    "unclassified = unclassified.dropna(how=\"any\")\n",
    "unclassified = unclassified_label.merge(unclassified, how=\"inner\", on=\"index\")\n",
    "\n",
    "\n",
    "unclassified_X = unclassified.drop([\"index\", \"label\", \"username\"], axis=1)\n",
    "unclassified_X.shape"
   ]
  },
  {
   "cell_type": "code",
   "execution_count": 43,
   "metadata": {},
   "outputs": [
    {
     "name": "stderr",
     "output_type": "stream",
     "text": [
      "/Users/kyleeng/anaconda3/envs/PythonData/lib/python3.7/site-packages/sklearn/preprocessing/data.py:625: DataConversionWarning: Data with input dtype int64, float64 were all converted to float64 by StandardScaler.\n",
      "  return self.partial_fit(X, y)\n"
     ]
    }
   ],
   "source": [
    "# Create a StandardScater model and fit it to the training data\n",
    "X_scaler = StandardScaler().fit(unclassified_X)"
   ]
  },
  {
   "cell_type": "code",
   "execution_count": 44,
   "metadata": {},
   "outputs": [
    {
     "name": "stderr",
     "output_type": "stream",
     "text": [
      "/Users/kyleeng/anaconda3/envs/PythonData/lib/python3.7/site-packages/ipykernel_launcher.py:1: DataConversionWarning: Data with input dtype int64, float64 were all converted to float64 by StandardScaler.\n",
      "  \"\"\"Entry point for launching an IPython kernel.\n"
     ]
    }
   ],
   "source": [
    "X_scaled = X_scaler.transform(unclassified_X)"
   ]
  },
  {
   "cell_type": "code",
   "execution_count": 45,
   "metadata": {},
   "outputs": [
    {
     "data": {
      "text/plain": [
       "(8016, 1)"
      ]
     },
     "execution_count": 45,
     "metadata": {},
     "output_type": "execute_result"
    }
   ],
   "source": [
    "# Predict on new data set\n",
    "unclassified_predictions = model.predict_classes(X_scaled)\n",
    "prediction_labels = label_encoder.inverse_transform(unclassified_predictions)\n",
    "\n",
    "unclassified_pred_df = pd.DataFrame({\"unclassified predictions\": prediction_labels})\n",
    "unclassified_pred_df.shape"
   ]
  },
  {
   "cell_type": "code",
   "execution_count": 46,
   "metadata": {},
   "outputs": [
    {
     "data": {
      "text/html": [
       "<div>\n",
       "<style scoped>\n",
       "    .dataframe tbody tr th:only-of-type {\n",
       "        vertical-align: middle;\n",
       "    }\n",
       "\n",
       "    .dataframe tbody tr th {\n",
       "        vertical-align: top;\n",
       "    }\n",
       "\n",
       "    .dataframe thead th {\n",
       "        text-align: right;\n",
       "    }\n",
       "</style>\n",
       "<table border=\"1\" class=\"dataframe\">\n",
       "  <thead>\n",
       "    <tr style=\"text-align: right;\">\n",
       "      <th></th>\n",
       "      <th>username</th>\n",
       "      <th>face_detection</th>\n",
       "      <th>color_number</th>\n",
       "      <th>b_key_count</th>\n",
       "      <th>i_key_count</th>\n",
       "      <th>url_detect</th>\n",
       "      <th>unclassified predictions</th>\n",
       "    </tr>\n",
       "  </thead>\n",
       "  <tbody>\n",
       "    <tr>\n",
       "      <th>0</th>\n",
       "      <td>caitiecouch325</td>\n",
       "      <td>1.0</td>\n",
       "      <td>33377.0</td>\n",
       "      <td>0.0</td>\n",
       "      <td>0.0</td>\n",
       "      <td>1</td>\n",
       "      <td>individual</td>\n",
       "    </tr>\n",
       "    <tr>\n",
       "      <th>1</th>\n",
       "      <td>SadaKaloZia</td>\n",
       "      <td>1.0</td>\n",
       "      <td>38147.0</td>\n",
       "      <td>0.0</td>\n",
       "      <td>0.0</td>\n",
       "      <td>1</td>\n",
       "      <td>individual</td>\n",
       "    </tr>\n",
       "    <tr>\n",
       "      <th>2</th>\n",
       "      <td>MusketeersTele</td>\n",
       "      <td>0.0</td>\n",
       "      <td>106.0</td>\n",
       "      <td>0.0</td>\n",
       "      <td>0.0</td>\n",
       "      <td>0</td>\n",
       "      <td>business</td>\n",
       "    </tr>\n",
       "    <tr>\n",
       "      <th>3</th>\n",
       "      <td>repport4</td>\n",
       "      <td>0.0</td>\n",
       "      <td>9045.0</td>\n",
       "      <td>0.0</td>\n",
       "      <td>0.0</td>\n",
       "      <td>0</td>\n",
       "      <td>business</td>\n",
       "    </tr>\n",
       "    <tr>\n",
       "      <th>4</th>\n",
       "      <td>twerkGerl</td>\n",
       "      <td>0.0</td>\n",
       "      <td>35878.0</td>\n",
       "      <td>0.0</td>\n",
       "      <td>0.0</td>\n",
       "      <td>1</td>\n",
       "      <td>business</td>\n",
       "    </tr>\n",
       "  </tbody>\n",
       "</table>\n",
       "</div>"
      ],
      "text/plain": [
       "         username  face_detection  color_number  b_key_count  i_key_count  \\\n",
       "0  caitiecouch325             1.0       33377.0          0.0          0.0   \n",
       "1     SadaKaloZia             1.0       38147.0          0.0          0.0   \n",
       "2  MusketeersTele             0.0         106.0          0.0          0.0   \n",
       "3        repport4             0.0        9045.0          0.0          0.0   \n",
       "4       twerkGerl             0.0       35878.0          0.0          0.0   \n",
       "\n",
       "   url_detect unclassified predictions  \n",
       "0           1               individual  \n",
       "1           1               individual  \n",
       "2           0                 business  \n",
       "3           0                 business  \n",
       "4           1                 business  "
      ]
     },
     "execution_count": 46,
     "metadata": {},
     "output_type": "execute_result"
    }
   ],
   "source": [
    "unclassified_merge = unclassified.join(unclassified_pred_df)\n",
    "unclassified_merge = unclassified_merge[[\"username\", \"face_detection\", \"color_number\", \\\n",
    "                                             \"b_key_count\", \"i_key_count\", \"url_detect\", \"unclassified predictions\"]]\n",
    "unclassified_merge.head()"
   ]
  },
  {
   "cell_type": "code",
   "execution_count": 51,
   "metadata": {},
   "outputs": [],
   "source": [
    "unclassified_merge.to_csv(\"Outputs/unclassified_merge.csv\", index=False)"
   ]
  }
 ],
 "metadata": {
  "kernelspec": {
   "display_name": "Python 3",
   "language": "python",
   "name": "python3"
  },
  "language_info": {
   "codemirror_mode": {
    "name": "ipython",
    "version": 3
   },
   "file_extension": ".py",
   "mimetype": "text/x-python",
   "name": "python",
   "nbconvert_exporter": "python",
   "pygments_lexer": "ipython3",
   "version": "3.7.1"
  }
 },
 "nbformat": 4,
 "nbformat_minor": 2
}
