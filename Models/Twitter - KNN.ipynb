{
 "cells": [
  {
   "cell_type": "code",
   "execution_count": 1,
   "metadata": {},
   "outputs": [],
   "source": [
    "import pandas as pd"
   ]
  },
  {
   "cell_type": "code",
   "execution_count": 2,
   "metadata": {},
   "outputs": [],
   "source": [
    "df = pd.read_csv(\"final_output.csv\", encoding = \"latin1\")"
   ]
  },
  {
   "cell_type": "code",
   "execution_count": 3,
   "metadata": {},
   "outputs": [],
   "source": [
    "# 999 was a code we used when executing python face_detection library on twitter profile pictures. \n",
    "# Specifically, 999 indicated that there was an error/no picture found when iterating through thr profile pictures\n",
    "df = df[df.face_detection != 999]\n",
    "# code 1 was assigned if a face was deteced, code 0 was assigned if a face was not detected."
   ]
  },
  {
   "cell_type": "code",
   "execution_count": 4,
   "metadata": {},
   "outputs": [],
   "source": [
    "# Create a column in dataframe indicating whether a url was linked on the twitter page or not. \n",
    "# If a url was detected, code 1 was assigned, else, 0 was assigned.\n",
    "array = []\n",
    "for i in list(df[\"url\"]):\n",
    "    if str(i) != \"nan\":\n",
    "        array.append(1)\n",
    "    else:\n",
    "        array.append(0)\n",
    "df[\"url_detect\"] = array"
   ]
  },
  {
   "cell_type": "code",
   "execution_count": 5,
   "metadata": {},
   "outputs": [],
   "source": [
    "# color_number column is a column that gives a count of the number of colors a profile picture has.\n",
    "# We noticed that pictures with 184 colors all linked to the same default twitter profile picture.\n",
    "# Since no face recognition or insightful color count can be returned and properly evaluated by the model,\n",
    "# we decided to drop all rows that have a color count of 184.\n",
    "# Coincidentally, we noticed color_number = 0 all corresponding face_detection = 999.\n",
    "# Even though that was already dropped, we decided to add this precaution in case this was used on future scraped data\n",
    "df = df[(df.color_number != 184) & (df.color_number !=0)]"
   ]
  },
  {
   "cell_type": "code",
   "execution_count": 6,
   "metadata": {},
   "outputs": [],
   "source": [
    "# Drop columns we dont need for modeling\n",
    "# df = df.drop(columns = [\"name\", \"id\", \"url\", \"bio\", \"location\", \"join_date\", \"join_time\", \\\n",
    "#                         \"private\", \"verified\", \"profile_image_url\", \"background_image\"])\n",
    "df = df[[\"label\", \"username\", \"face_detection\", \"color_number\", \"b_key_count\", \"i_key_count\", \"url_detect\"]]"
   ]
  },
  {
   "cell_type": "code",
   "execution_count": 7,
   "metadata": {},
   "outputs": [],
   "source": [
    "df = df.dropna(how=\"any\")\n",
    "# Dataset used had 11401 rows, unclassified as business or not. Our team went into each twitter page to classify\n",
    "# whether the page was a business or individual. Since 1000s of rows could not be manually classified, \n",
    "# we dropped many unclassified rows\n",
    "# Dropping data must be the last step, because there are blank fields in the dropped columns, which may have values\n",
    "# in the variables we will take into consideration. Dropping pre-emptively will drop many rows unnecessarily"
   ]
  },
  {
   "cell_type": "code",
   "execution_count": 8,
   "metadata": {},
   "outputs": [
    {
     "name": "stdout",
     "output_type": "stream",
     "text": [
      "(2357, 5) (2357,)\n"
     ]
    }
   ],
   "source": [
    "# Assign X (data) and y (target)\n",
    "X = df.drop([\"label\", \"username\"], axis=1)\n",
    "y = df[\"label\"]\n",
    "print(X.shape, y.shape)"
   ]
  },
  {
   "cell_type": "code",
   "execution_count": 10,
   "metadata": {},
   "outputs": [],
   "source": [
    "from sklearn.model_selection import train_test_split\n",
    "X_train, X_test, y_train, y_test = train_test_split(X, y, random_state=42, stratify=y)"
   ]
  },
  {
   "cell_type": "code",
   "execution_count": 20,
   "metadata": {},
   "outputs": [
    {
     "name": "stdout",
     "output_type": "stream",
     "text": [
      "k=2 Test Acc: 0.769\n"
     ]
    }
   ],
   "source": [
    "# Note that k: 9 provides the best accuracy where the classifier starts to stablize\n",
    "from sklearn.neighbors import KNeighborsClassifier\n",
    "knn = KNeighborsClassifier(n_neighbors=2)\n",
    "knn.fit(X_train, y_train)\n",
    "print('k=2 Test Acc: %.3f' % knn.score(X_test, y_test))"
   ]
  }
 ],
 "metadata": {
  "kernelspec": {
   "display_name": "Python 3",
   "language": "python",
   "name": "python3"
  },
  "language_info": {
   "codemirror_mode": {
    "name": "ipython",
    "version": 3
   },
   "file_extension": ".py",
   "mimetype": "text/x-python",
   "name": "python",
   "nbconvert_exporter": "python",
   "pygments_lexer": "ipython3",
   "version": "3.7.1"
  }
 },
 "nbformat": 4,
 "nbformat_minor": 2
}
