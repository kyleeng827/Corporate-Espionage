{
 "cells": [
  {
   "cell_type": "markdown",
   "metadata": {},
   "source": [
    "includes everything except words analysis, 6 hidden nodes, deep learning less acurate, loss= categorical_crossentropy"
   ]
  },
  {
   "cell_type": "code",
   "execution_count": 1,
   "metadata": {},
   "outputs": [],
   "source": [
    "import pandas as pd"
   ]
  },
  {
   "cell_type": "code",
   "execution_count": 2,
   "metadata": {},
   "outputs": [],
   "source": [
    "df = pd.read_excel(\"Twitter_Data_Final_v1.xlsx\")"
   ]
  },
  {
   "cell_type": "code",
   "execution_count": 3,
   "metadata": {},
   "outputs": [
    {
     "data": {
      "text/html": [
       "<div>\n",
       "<style scoped>\n",
       "    .dataframe tbody tr th:only-of-type {\n",
       "        vertical-align: middle;\n",
       "    }\n",
       "\n",
       "    .dataframe tbody tr th {\n",
       "        vertical-align: top;\n",
       "    }\n",
       "\n",
       "    .dataframe thead th {\n",
       "        text-align: right;\n",
       "    }\n",
       "</style>\n",
       "<table border=\"1\" class=\"dataframe\">\n",
       "  <thead>\n",
       "    <tr style=\"text-align: right;\">\n",
       "      <th></th>\n",
       "      <th>label</th>\n",
       "      <th>id</th>\n",
       "      <th>name</th>\n",
       "      <th>username</th>\n",
       "      <th>bio</th>\n",
       "      <th>location</th>\n",
       "      <th>url</th>\n",
       "      <th>join_date</th>\n",
       "      <th>join_time</th>\n",
       "      <th>tweets</th>\n",
       "      <th>...</th>\n",
       "      <th>followers</th>\n",
       "      <th>likes</th>\n",
       "      <th>media</th>\n",
       "      <th>private</th>\n",
       "      <th>verified</th>\n",
       "      <th>profile_image_url</th>\n",
       "      <th>background_image</th>\n",
       "      <th>color_number</th>\n",
       "      <th>face_detection</th>\n",
       "      <th>follower/following_ratio</th>\n",
       "    </tr>\n",
       "  </thead>\n",
       "  <tbody>\n",
       "    <tr>\n",
       "      <th>0</th>\n",
       "      <td>individual</td>\n",
       "      <td>379823034</td>\n",
       "      <td>mohammed</td>\n",
       "      <td>BarcaMohammed</td>\n",
       "      <td>NaN</td>\n",
       "      <td>North Bergen</td>\n",
       "      <td>NaN</td>\n",
       "      <td>2011-09-25</td>\n",
       "      <td>09:33:00</td>\n",
       "      <td>172</td>\n",
       "      <td>...</td>\n",
       "      <td>12</td>\n",
       "      <td>1</td>\n",
       "      <td>1</td>\n",
       "      <td>0</td>\n",
       "      <td>0</td>\n",
       "      <td>https://pbs.twimg.com/profile_images/166601617...</td>\n",
       "      <td>NaN</td>\n",
       "      <td>51912</td>\n",
       "      <td>0.0</td>\n",
       "      <td>0.023256</td>\n",
       "    </tr>\n",
       "    <tr>\n",
       "      <th>1</th>\n",
       "      <td>individual</td>\n",
       "      <td>931229576</td>\n",
       "      <td>SaMisches</td>\n",
       "      <td>Shmisch</td>\n",
       "      <td>NaN</td>\n",
       "      <td>NaN</td>\n",
       "      <td>NaN</td>\n",
       "      <td>2012-11-06</td>\n",
       "      <td>20:41:00</td>\n",
       "      <td>6</td>\n",
       "      <td>...</td>\n",
       "      <td>10</td>\n",
       "      <td>3</td>\n",
       "      <td>3</td>\n",
       "      <td>0</td>\n",
       "      <td>0</td>\n",
       "      <td>https://pbs.twimg.com/profile_images/930857677...</td>\n",
       "      <td>NaN</td>\n",
       "      <td>31033</td>\n",
       "      <td>0.0</td>\n",
       "      <td>0.108696</td>\n",
       "    </tr>\n",
       "    <tr>\n",
       "      <th>2</th>\n",
       "      <td>individual</td>\n",
       "      <td>393095898</td>\n",
       "      <td>Christopher Pawelski</td>\n",
       "      <td>ChrisPawelski</td>\n",
       "      <td>A 4th generation family onion farmer married t...</td>\n",
       "      <td>Florida, NY</td>\n",
       "      <td>http://about.me/chris_pawelski</td>\n",
       "      <td>2011-10-17</td>\n",
       "      <td>18:00:00</td>\n",
       "      <td>49503</td>\n",
       "      <td>...</td>\n",
       "      <td>63997</td>\n",
       "      <td>30888</td>\n",
       "      <td>23400</td>\n",
       "      <td>0</td>\n",
       "      <td>0</td>\n",
       "      <td>https://pbs.twimg.com/profile_images/686658233...</td>\n",
       "      <td>https://pbs.twimg.com/profile_banners/39309589...</td>\n",
       "      <td>46205</td>\n",
       "      <td>0.0</td>\n",
       "      <td>1.085431</td>\n",
       "    </tr>\n",
       "    <tr>\n",
       "      <th>3</th>\n",
       "      <td>individual</td>\n",
       "      <td>3109060051</td>\n",
       "      <td>xrishin</td>\n",
       "      <td>xrishin</td>\n",
       "      <td>NaN</td>\n",
       "      <td>NaN</td>\n",
       "      <td>NaN</td>\n",
       "      <td>2015-03-26</td>\n",
       "      <td>19:39:00</td>\n",
       "      <td>3</td>\n",
       "      <td>...</td>\n",
       "      <td>2</td>\n",
       "      <td>0</td>\n",
       "      <td>0</td>\n",
       "      <td>1</td>\n",
       "      <td>0</td>\n",
       "      <td>https://abs.twimg.com/sticky/default_profile_i...</td>\n",
       "      <td>NaN</td>\n",
       "      <td>184</td>\n",
       "      <td>0.0</td>\n",
       "      <td>0.050000</td>\n",
       "    </tr>\n",
       "    <tr>\n",
       "      <th>4</th>\n",
       "      <td>business</td>\n",
       "      <td>1133740000000000000</td>\n",
       "      <td>LENDVER</td>\n",
       "      <td>LendverLLC</td>\n",
       "      <td>BORROW CONFIDENTLY. We√¢‚Ç¨‚Ñ¢ve done the rese...</td>\n",
       "      <td>NaN</td>\n",
       "      <td>https://www.lendver.com/</td>\n",
       "      <td>2019-05-29</td>\n",
       "      <td>07:32:00</td>\n",
       "      <td>2</td>\n",
       "      <td>...</td>\n",
       "      <td>2</td>\n",
       "      <td>0</td>\n",
       "      <td>1</td>\n",
       "      <td>0</td>\n",
       "      <td>0</td>\n",
       "      <td>https://pbs.twimg.com/profile_images/113375859...</td>\n",
       "      <td>https://pbs.twimg.com/profile_banners/11337428...</td>\n",
       "      <td>510</td>\n",
       "      <td>0.0</td>\n",
       "      <td>0.090909</td>\n",
       "    </tr>\n",
       "  </tbody>\n",
       "</table>\n",
       "<p>5 rows × 21 columns</p>\n",
       "</div>"
      ],
      "text/plain": [
       "        label                   id                  name       username  \\\n",
       "0  individual            379823034              mohammed  BarcaMohammed   \n",
       "1  individual            931229576             SaMisches        Shmisch   \n",
       "2  individual            393095898  Christopher Pawelski  ChrisPawelski   \n",
       "3  individual           3109060051               xrishin        xrishin   \n",
       "4    business  1133740000000000000               LENDVER     LendverLLC   \n",
       "\n",
       "                                                 bio      location  \\\n",
       "0                                                NaN  North Bergen   \n",
       "1                                                NaN           NaN   \n",
       "2  A 4th generation family onion farmer married t...   Florida, NY   \n",
       "3                                                NaN           NaN   \n",
       "4  BORROW CONFIDENTLY. We√¢‚Ç¨‚Ñ¢ve done the rese...           NaN   \n",
       "\n",
       "                              url  join_date join_time  tweets  \\\n",
       "0                             NaN 2011-09-25  09:33:00     172   \n",
       "1                             NaN 2012-11-06  20:41:00       6   \n",
       "2  http://about.me/chris_pawelski 2011-10-17  18:00:00   49503   \n",
       "3                             NaN 2015-03-26  19:39:00       3   \n",
       "4        https://www.lendver.com/ 2019-05-29  07:32:00       2   \n",
       "\n",
       "             ...             followers  likes  media  private  verified  \\\n",
       "0            ...                    12      1      1        0         0   \n",
       "1            ...                    10      3      3        0         0   \n",
       "2            ...                 63997  30888  23400        0         0   \n",
       "3            ...                     2      0      0        1         0   \n",
       "4            ...                     2      0      1        0         0   \n",
       "\n",
       "                                   profile_image_url  \\\n",
       "0  https://pbs.twimg.com/profile_images/166601617...   \n",
       "1  https://pbs.twimg.com/profile_images/930857677...   \n",
       "2  https://pbs.twimg.com/profile_images/686658233...   \n",
       "3  https://abs.twimg.com/sticky/default_profile_i...   \n",
       "4  https://pbs.twimg.com/profile_images/113375859...   \n",
       "\n",
       "                                    background_image color_number  \\\n",
       "0                                                NaN        51912   \n",
       "1                                                NaN        31033   \n",
       "2  https://pbs.twimg.com/profile_banners/39309589...        46205   \n",
       "3                                                NaN          184   \n",
       "4  https://pbs.twimg.com/profile_banners/11337428...          510   \n",
       "\n",
       "   face_detection  follower/following_ratio  \n",
       "0             0.0                  0.023256  \n",
       "1             0.0                  0.108696  \n",
       "2             0.0                  1.085431  \n",
       "3             0.0                  0.050000  \n",
       "4             0.0                  0.090909  \n",
       "\n",
       "[5 rows x 21 columns]"
      ]
     },
     "execution_count": 3,
     "metadata": {},
     "output_type": "execute_result"
    }
   ],
   "source": [
    "df.head()"
   ]
  },
  {
   "cell_type": "code",
   "execution_count": 4,
   "metadata": {},
   "outputs": [
    {
     "data": {
      "text/plain": [
       "(11401, 21)"
      ]
     },
     "execution_count": 4,
     "metadata": {},
     "output_type": "execute_result"
    }
   ],
   "source": [
    "df.shape"
   ]
  },
  {
   "cell_type": "code",
   "execution_count": 5,
   "metadata": {},
   "outputs": [
    {
     "data": {
      "text/plain": [
       "array(['individual', 'business', nan], dtype=object)"
      ]
     },
     "execution_count": 5,
     "metadata": {},
     "output_type": "execute_result"
    }
   ],
   "source": [
    "# Check label column for unique values. Previously, \"Business\" and \"business\" existed, \n",
    "# as did \"Indivdual\" and \"individual\". This led to 4 categories during encoding.\n",
    "df[\"label\"].unique()"
   ]
  },
  {
   "cell_type": "code",
   "execution_count": 6,
   "metadata": {},
   "outputs": [
    {
     "data": {
      "text/plain": [
       "Index(['label', 'id', 'name', 'username', 'bio', 'location', 'url',\n",
       "       'join_date', 'join_time', 'tweets', 'following', 'followers', 'likes',\n",
       "       'media', 'private', 'verified', 'profile_image_url', 'background_image',\n",
       "       'color_number', 'face_detection', 'follower/following_ratio'],\n",
       "      dtype='object')"
      ]
     },
     "execution_count": 6,
     "metadata": {},
     "output_type": "execute_result"
    }
   ],
   "source": [
    "df.columns"
   ]
  },
  {
   "cell_type": "code",
   "execution_count": 7,
   "metadata": {},
   "outputs": [],
   "source": [
    "# 999 was a code we used when executing python face_detection library on twitter profile pictures. \n",
    "# Specifically, 999 indicated that there was an error/no picture found when iterating through thr profile pictures\n",
    "df = df[df.face_detection != 999]\n",
    "# code 1 was assigned if a face was deteced, code 0 was assigned if a face was not detected."
   ]
  },
  {
   "cell_type": "code",
   "execution_count": 8,
   "metadata": {},
   "outputs": [],
   "source": [
    "# Create a column in dataframe indicating whether a url was linked on the twitter page or not. \n",
    "# If a url was detected, code 1 was assigned, else, 0 was assigned.\n",
    "array = []\n",
    "for i in list(df[\"url\"]):\n",
    "    if str(i) != \"nan\":\n",
    "        array.append(1)\n",
    "    else:\n",
    "        array.append(0)\n",
    "df[\"url_detect\"] = array"
   ]
  },
  {
   "cell_type": "code",
   "execution_count": 9,
   "metadata": {},
   "outputs": [
    {
     "data": {
      "text/plain": [
       "(11209, 22)"
      ]
     },
     "execution_count": 9,
     "metadata": {},
     "output_type": "execute_result"
    }
   ],
   "source": [
    "df.shape"
   ]
  },
  {
   "cell_type": "code",
   "execution_count": 10,
   "metadata": {},
   "outputs": [],
   "source": [
    "# color_number column is a column that gives a count of the number of colors a profile picture has.\n",
    "# We noticed that pictures with 184 colors all linked to the same default twitter profile picture.\n",
    "# Since no face recognition or insightful color count can be returned and properly evaluated by the model,\n",
    "# we decided to drop all rows that have a color count of 184.\n",
    "# Coincidentally, we noticed color_number = 0 all corresponding face_detection = 999.\n",
    "# Even though that was already dropped, we decided to add this precaution in case this was used on future scraped data\n",
    "df = df[(df.color_number != 184) & (df.color_number !=0)]"
   ]
  },
  {
   "cell_type": "code",
   "execution_count": 11,
   "metadata": {},
   "outputs": [
    {
     "data": {
      "text/plain": [
       "(10411, 22)"
      ]
     },
     "execution_count": 11,
     "metadata": {},
     "output_type": "execute_result"
    }
   ],
   "source": [
    "df.shape"
   ]
  },
  {
   "cell_type": "code",
   "execution_count": 12,
   "metadata": {},
   "outputs": [],
   "source": [
    "# Drop columns we dont need for modeling\n",
    "df = df.drop(columns = [\"name\", \"id\", \"url\", \"bio\", \"location\", \"join_date\", \"join_time\", \\\n",
    "                        \"private\", \"verified\", \"profile_image_url\", \"background_image\"])"
   ]
  },
  {
   "cell_type": "code",
   "execution_count": 13,
   "metadata": {},
   "outputs": [],
   "source": [
    "df = df.dropna(how=\"any\")\n",
    "# Dataset used had 11401 rows, unclassified as business or not. Our team went into each twitter page to classify\n",
    "# whether the page was a business or individual. Since 1000s of rows could not be manually classified, \n",
    "# we dropped many unclassified rows\n",
    "# Dropping data must be the last step, because there are blank fields in the dropped columns, which may have values\n",
    "# in the variables we will take into consideration. Dropping pre-emptively will drop many rows unnecessarily"
   ]
  },
  {
   "cell_type": "code",
   "execution_count": 14,
   "metadata": {},
   "outputs": [
    {
     "data": {
      "text/plain": [
       "(2359, 11)"
      ]
     },
     "execution_count": 14,
     "metadata": {},
     "output_type": "execute_result"
    }
   ],
   "source": [
    "df.shape"
   ]
  },
  {
   "cell_type": "code",
   "execution_count": 15,
   "metadata": {},
   "outputs": [
    {
     "data": {
      "text/html": [
       "<div>\n",
       "<style scoped>\n",
       "    .dataframe tbody tr th:only-of-type {\n",
       "        vertical-align: middle;\n",
       "    }\n",
       "\n",
       "    .dataframe tbody tr th {\n",
       "        vertical-align: top;\n",
       "    }\n",
       "\n",
       "    .dataframe thead th {\n",
       "        text-align: right;\n",
       "    }\n",
       "</style>\n",
       "<table border=\"1\" class=\"dataframe\">\n",
       "  <thead>\n",
       "    <tr style=\"text-align: right;\">\n",
       "      <th></th>\n",
       "      <th>label</th>\n",
       "      <th>username</th>\n",
       "      <th>tweets</th>\n",
       "      <th>following</th>\n",
       "      <th>followers</th>\n",
       "      <th>likes</th>\n",
       "      <th>media</th>\n",
       "      <th>color_number</th>\n",
       "      <th>face_detection</th>\n",
       "      <th>follower/following_ratio</th>\n",
       "      <th>url_detect</th>\n",
       "    </tr>\n",
       "  </thead>\n",
       "  <tbody>\n",
       "    <tr>\n",
       "      <th>0</th>\n",
       "      <td>individual</td>\n",
       "      <td>BarcaMohammed</td>\n",
       "      <td>172</td>\n",
       "      <td>516</td>\n",
       "      <td>12</td>\n",
       "      <td>1</td>\n",
       "      <td>1</td>\n",
       "      <td>51912</td>\n",
       "      <td>0.0</td>\n",
       "      <td>0.023256</td>\n",
       "      <td>0</td>\n",
       "    </tr>\n",
       "    <tr>\n",
       "      <th>1</th>\n",
       "      <td>individual</td>\n",
       "      <td>Shmisch</td>\n",
       "      <td>6</td>\n",
       "      <td>92</td>\n",
       "      <td>10</td>\n",
       "      <td>3</td>\n",
       "      <td>3</td>\n",
       "      <td>31033</td>\n",
       "      <td>0.0</td>\n",
       "      <td>0.108696</td>\n",
       "      <td>0</td>\n",
       "    </tr>\n",
       "    <tr>\n",
       "      <th>2</th>\n",
       "      <td>individual</td>\n",
       "      <td>ChrisPawelski</td>\n",
       "      <td>49503</td>\n",
       "      <td>58960</td>\n",
       "      <td>63997</td>\n",
       "      <td>30888</td>\n",
       "      <td>23400</td>\n",
       "      <td>46205</td>\n",
       "      <td>0.0</td>\n",
       "      <td>1.085431</td>\n",
       "      <td>1</td>\n",
       "    </tr>\n",
       "    <tr>\n",
       "      <th>4</th>\n",
       "      <td>business</td>\n",
       "      <td>LendverLLC</td>\n",
       "      <td>2</td>\n",
       "      <td>22</td>\n",
       "      <td>2</td>\n",
       "      <td>0</td>\n",
       "      <td>1</td>\n",
       "      <td>510</td>\n",
       "      <td>0.0</td>\n",
       "      <td>0.090909</td>\n",
       "      <td>1</td>\n",
       "    </tr>\n",
       "    <tr>\n",
       "      <th>6</th>\n",
       "      <td>individual</td>\n",
       "      <td>ClaretSport</td>\n",
       "      <td>39675</td>\n",
       "      <td>7607</td>\n",
       "      <td>6964</td>\n",
       "      <td>1750</td>\n",
       "      <td>36600</td>\n",
       "      <td>41897</td>\n",
       "      <td>1.0</td>\n",
       "      <td>0.915473</td>\n",
       "      <td>1</td>\n",
       "    </tr>\n",
       "  </tbody>\n",
       "</table>\n",
       "</div>"
      ],
      "text/plain": [
       "        label       username  tweets  following  followers  likes  media  \\\n",
       "0  individual  BarcaMohammed     172        516         12      1      1   \n",
       "1  individual        Shmisch       6         92         10      3      3   \n",
       "2  individual  ChrisPawelski   49503      58960      63997  30888  23400   \n",
       "4    business     LendverLLC       2         22          2      0      1   \n",
       "6  individual    ClaretSport   39675       7607       6964   1750  36600   \n",
       "\n",
       "   color_number  face_detection  follower/following_ratio  url_detect  \n",
       "0         51912             0.0                  0.023256           0  \n",
       "1         31033             0.0                  0.108696           0  \n",
       "2         46205             0.0                  1.085431           1  \n",
       "4           510             0.0                  0.090909           1  \n",
       "6         41897             1.0                  0.915473           1  "
      ]
     },
     "execution_count": 15,
     "metadata": {},
     "output_type": "execute_result"
    }
   ],
   "source": [
    "df.head()"
   ]
  },
  {
   "cell_type": "code",
   "execution_count": 16,
   "metadata": {},
   "outputs": [
    {
     "name": "stdout",
     "output_type": "stream",
     "text": [
      "(2359, 9) (2359,)\n"
     ]
    }
   ],
   "source": [
    "# Assign X (data) and y (target)\n",
    "X = df.drop([\"label\", \"username\"], axis=1)\n",
    "y = df[\"label\"]\n",
    "print(X.shape, y.shape)"
   ]
  },
  {
   "cell_type": "code",
   "execution_count": 17,
   "metadata": {},
   "outputs": [],
   "source": [
    "from sklearn.model_selection import train_test_split\n",
    "\n",
    "X_train, X_test, y_train, y_test = train_test_split(X, y, random_state=1, stratify=y)"
   ]
  },
  {
   "cell_type": "code",
   "execution_count": 18,
   "metadata": {},
   "outputs": [
    {
     "name": "stderr",
     "output_type": "stream",
     "text": [
      "/Users/kyleeng/anaconda3/envs/PythonData/lib/python3.7/site-packages/sklearn/preprocessing/data.py:625: DataConversionWarning: Data with input dtype int64, float64 were all converted to float64 by StandardScaler.\n",
      "  return self.partial_fit(X, y)\n"
     ]
    }
   ],
   "source": [
    "from sklearn.preprocessing import StandardScaler\n",
    "\n",
    "# Create a StandardScater model and fit it to the training data\n",
    "X_scaler = StandardScaler().fit(X_train)"
   ]
  },
  {
   "cell_type": "code",
   "execution_count": null,
   "metadata": {},
   "outputs": [],
   "source": []
  },
  {
   "cell_type": "code",
   "execution_count": 19,
   "metadata": {},
   "outputs": [
    {
     "name": "stderr",
     "output_type": "stream",
     "text": [
      "/Users/kyleeng/anaconda3/envs/PythonData/lib/python3.7/site-packages/ipykernel_launcher.py:3: DataConversionWarning: Data with input dtype int64, float64 were all converted to float64 by StandardScaler.\n",
      "  This is separate from the ipykernel package so we can avoid doing imports until\n",
      "/Users/kyleeng/anaconda3/envs/PythonData/lib/python3.7/site-packages/ipykernel_launcher.py:4: DataConversionWarning: Data with input dtype int64, float64 were all converted to float64 by StandardScaler.\n",
      "  after removing the cwd from sys.path.\n"
     ]
    }
   ],
   "source": [
    "# Transform the training and testing data using the X_scaler\n",
    "\n",
    "X_train_scaled = X_scaler.transform(X_train)\n",
    "X_test_scaled = X_scaler.transform(X_test)"
   ]
  },
  {
   "cell_type": "code",
   "execution_count": 20,
   "metadata": {},
   "outputs": [
    {
     "name": "stderr",
     "output_type": "stream",
     "text": [
      "Using TensorFlow backend.\n"
     ]
    }
   ],
   "source": [
    "from sklearn.preprocessing import LabelEncoder\n",
    "from keras.utils import to_categorical\n",
    "\n",
    "# Step 1: Label-encode data set (y_train was previously \"business\" or \"individual\", which needed to be numbers) \n",
    "label_encoder = LabelEncoder()\n",
    "label_encoder.fit(y_train)\n",
    "encoded_y_train = label_encoder.transform(y_train)\n",
    "encoded_y_test = label_encoder.transform(y_test)\n",
    "\n",
    "\n",
    "# Step 2: Convert encoded labels to one-hot-encoding\n",
    "y_train_categorical = to_categorical(encoded_y_train)\n",
    "y_test_categorical = to_categorical(encoded_y_test)\n"
   ]
  },
  {
   "cell_type": "code",
   "execution_count": 21,
   "metadata": {},
   "outputs": [
    {
     "name": "stdout",
     "output_type": "stream",
     "text": [
      "WARNING:tensorflow:From /Users/kyleeng/anaconda3/envs/PythonData/lib/python3.7/site-packages/tensorflow/python/ops/resource_variable_ops.py:435: colocate_with (from tensorflow.python.framework.ops) is deprecated and will be removed in a future version.\n",
      "Instructions for updating:\n",
      "Colocations handled automatically by placer.\n"
     ]
    }
   ],
   "source": [
    "# first, create a normal neural network with 2 inputs, 6 hidden nodes, and 2 outputs\n",
    "from tensorflow.keras.models import Sequential\n",
    "from tensorflow.keras.layers import Dense\n",
    "\n",
    "model = Sequential()\n",
    "model.add(Dense(units=6, activation='tanh', input_dim=9))\n",
    "model.add(Dense(units=2, activation='softmax'))"
   ]
  },
  {
   "cell_type": "code",
   "execution_count": 22,
   "metadata": {},
   "outputs": [
    {
     "name": "stdout",
     "output_type": "stream",
     "text": [
      "_________________________________________________________________\n",
      "Layer (type)                 Output Shape              Param #   \n",
      "=================================================================\n",
      "dense (Dense)                (None, 6)                 60        \n",
      "_________________________________________________________________\n",
      "dense_1 (Dense)              (None, 2)                 14        \n",
      "=================================================================\n",
      "Total params: 74\n",
      "Trainable params: 74\n",
      "Non-trainable params: 0\n",
      "_________________________________________________________________\n"
     ]
    }
   ],
   "source": [
    "model.summary()"
   ]
  },
  {
   "cell_type": "code",
   "execution_count": 23,
   "metadata": {},
   "outputs": [],
   "source": [
    "# Compile the model\n",
    "model.compile(optimizer='adam',\n",
    "              loss='categorical_crossentropy',\n",
    "              metrics=['accuracy'])"
   ]
  },
  {
   "cell_type": "code",
   "execution_count": 24,
   "metadata": {},
   "outputs": [
    {
     "data": {
      "text/plain": [
       "(1769, 2)"
      ]
     },
     "execution_count": 24,
     "metadata": {},
     "output_type": "execute_result"
    }
   ],
   "source": [
    "y_train_categorical.shape"
   ]
  },
  {
   "cell_type": "code",
   "execution_count": 25,
   "metadata": {
    "scrolled": true
   },
   "outputs": [
    {
     "name": "stdout",
     "output_type": "stream",
     "text": [
      "WARNING:tensorflow:From /Users/kyleeng/anaconda3/envs/PythonData/lib/python3.7/site-packages/tensorflow/python/ops/math_ops.py:3066: to_int32 (from tensorflow.python.ops.math_ops) is deprecated and will be removed in a future version.\n",
      "Instructions for updating:\n",
      "Use tf.cast instead.\n",
      "Epoch 1/75\n",
      " - 0s - loss: 0.6037 - acc: 0.7049\n",
      "Epoch 2/75\n",
      " - 0s - loss: 0.4967 - acc: 0.7835\n",
      "Epoch 3/75\n",
      " - 0s - loss: 0.4329 - acc: 0.8219\n",
      "Epoch 4/75\n",
      " - 0s - loss: 0.3901 - acc: 0.8423\n",
      "Epoch 5/75\n",
      " - 0s - loss: 0.3599 - acc: 0.8491\n",
      "Epoch 6/75\n",
      " - 0s - loss: 0.3382 - acc: 0.8575\n",
      "Epoch 7/75\n",
      " - 0s - loss: 0.3226 - acc: 0.8807\n",
      "Epoch 8/75\n",
      " - 0s - loss: 0.3114 - acc: 0.8881\n",
      "Epoch 9/75\n",
      " - 0s - loss: 0.3029 - acc: 0.8869\n",
      "Epoch 10/75\n",
      " - 0s - loss: 0.2966 - acc: 0.8898\n",
      "Epoch 11/75\n",
      " - 0s - loss: 0.2919 - acc: 0.8926\n",
      "Epoch 12/75\n",
      " - 0s - loss: 0.2885 - acc: 0.8915\n",
      "Epoch 13/75\n",
      " - 0s - loss: 0.2855 - acc: 0.8949\n",
      "Epoch 14/75\n",
      " - 0s - loss: 0.2834 - acc: 0.8932\n",
      "Epoch 15/75\n",
      " - 0s - loss: 0.2820 - acc: 0.8920\n",
      "Epoch 16/75\n",
      " - 0s - loss: 0.2806 - acc: 0.8932\n",
      "Epoch 17/75\n",
      " - 0s - loss: 0.2798 - acc: 0.8909\n",
      "Epoch 18/75\n",
      " - 0s - loss: 0.2791 - acc: 0.8909\n",
      "Epoch 19/75\n",
      " - 0s - loss: 0.2784 - acc: 0.8909\n",
      "Epoch 20/75\n",
      " - 0s - loss: 0.2779 - acc: 0.8909\n",
      "Epoch 21/75\n",
      " - 0s - loss: 0.2775 - acc: 0.8903\n",
      "Epoch 22/75\n",
      " - 0s - loss: 0.2771 - acc: 0.8892\n",
      "Epoch 23/75\n",
      " - 0s - loss: 0.2768 - acc: 0.8909\n",
      "Epoch 24/75\n",
      " - 0s - loss: 0.2766 - acc: 0.8903\n",
      "Epoch 25/75\n",
      " - 0s - loss: 0.2761 - acc: 0.8898\n",
      "Epoch 26/75\n",
      " - 0s - loss: 0.2759 - acc: 0.8909\n",
      "Epoch 27/75\n",
      " - 0s - loss: 0.2757 - acc: 0.8920\n",
      "Epoch 28/75\n",
      " - 0s - loss: 0.2754 - acc: 0.8909\n",
      "Epoch 29/75\n",
      " - 0s - loss: 0.2753 - acc: 0.8898\n",
      "Epoch 30/75\n",
      " - 0s - loss: 0.2751 - acc: 0.8903\n",
      "Epoch 31/75\n",
      " - 0s - loss: 0.2755 - acc: 0.8909\n",
      "Epoch 32/75\n",
      " - 0s - loss: 0.2749 - acc: 0.8903\n",
      "Epoch 33/75\n",
      " - 0s - loss: 0.2749 - acc: 0.8909\n",
      "Epoch 34/75\n",
      " - 0s - loss: 0.2747 - acc: 0.8909\n",
      "Epoch 35/75\n",
      " - 0s - loss: 0.2746 - acc: 0.8915\n",
      "Epoch 36/75\n",
      " - 0s - loss: 0.2743 - acc: 0.8909\n",
      "Epoch 37/75\n",
      " - 0s - loss: 0.2743 - acc: 0.8903\n",
      "Epoch 38/75\n",
      " - 0s - loss: 0.2742 - acc: 0.8909\n",
      "Epoch 39/75\n",
      " - 0s - loss: 0.2740 - acc: 0.8920\n",
      "Epoch 40/75\n",
      " - 0s - loss: 0.2738 - acc: 0.8943\n",
      "Epoch 41/75\n",
      " - 0s - loss: 0.2740 - acc: 0.8903\n",
      "Epoch 42/75\n",
      " - 0s - loss: 0.2737 - acc: 0.8909\n",
      "Epoch 43/75\n",
      " - 0s - loss: 0.2735 - acc: 0.8915\n",
      "Epoch 44/75\n",
      " - 0s - loss: 0.2732 - acc: 0.8903\n",
      "Epoch 45/75\n",
      " - 0s - loss: 0.2732 - acc: 0.8920\n",
      "Epoch 46/75\n",
      " - 0s - loss: 0.2731 - acc: 0.8915\n",
      "Epoch 47/75\n",
      " - 0s - loss: 0.2729 - acc: 0.8909\n",
      "Epoch 48/75\n",
      " - 0s - loss: 0.2728 - acc: 0.8903\n",
      "Epoch 49/75\n",
      " - 0s - loss: 0.2728 - acc: 0.8949\n",
      "Epoch 50/75\n",
      " - 0s - loss: 0.2726 - acc: 0.8932\n",
      "Epoch 51/75\n",
      " - 0s - loss: 0.2721 - acc: 0.8932\n",
      "Epoch 52/75\n",
      " - 0s - loss: 0.2722 - acc: 0.8926\n",
      "Epoch 53/75\n",
      " - 0s - loss: 0.2721 - acc: 0.8926\n",
      "Epoch 54/75\n",
      " - 0s - loss: 0.2719 - acc: 0.8920\n",
      "Epoch 55/75\n",
      " - 0s - loss: 0.2717 - acc: 0.8909\n",
      "Epoch 56/75\n",
      " - 0s - loss: 0.2719 - acc: 0.8932\n",
      "Epoch 57/75\n",
      " - 0s - loss: 0.2715 - acc: 0.8943\n",
      "Epoch 58/75\n",
      " - 0s - loss: 0.2718 - acc: 0.8943\n",
      "Epoch 59/75\n",
      " - 0s - loss: 0.2715 - acc: 0.8937\n",
      "Epoch 60/75\n",
      " - 0s - loss: 0.2712 - acc: 0.8926\n",
      "Epoch 61/75\n",
      " - 0s - loss: 0.2710 - acc: 0.8943\n",
      "Epoch 62/75\n",
      " - 0s - loss: 0.2710 - acc: 0.8920\n",
      "Epoch 63/75\n",
      " - 0s - loss: 0.2710 - acc: 0.8920\n",
      "Epoch 64/75\n",
      " - 0s - loss: 0.2708 - acc: 0.8949\n",
      "Epoch 65/75\n",
      " - 0s - loss: 0.2708 - acc: 0.8954\n",
      "Epoch 66/75\n",
      " - 0s - loss: 0.2708 - acc: 0.8960\n",
      "Epoch 67/75\n",
      " - 0s - loss: 0.2708 - acc: 0.8954\n",
      "Epoch 68/75\n",
      " - 0s - loss: 0.2706 - acc: 0.8960\n",
      "Epoch 69/75\n",
      " - 0s - loss: 0.2702 - acc: 0.8937\n",
      "Epoch 70/75\n",
      " - 0s - loss: 0.2704 - acc: 0.8954\n",
      "Epoch 71/75\n",
      " - 0s - loss: 0.2700 - acc: 0.8954\n",
      "Epoch 72/75\n",
      " - 0s - loss: 0.2699 - acc: 0.8949\n",
      "Epoch 73/75\n",
      " - 0s - loss: 0.2700 - acc: 0.8966\n",
      "Epoch 74/75\n",
      " - 0s - loss: 0.2697 - acc: 0.8960\n",
      "Epoch 75/75\n",
      " - 0s - loss: 0.2697 - acc: 0.8977\n"
     ]
    },
    {
     "data": {
      "text/plain": [
       "<tensorflow.python.keras.callbacks.History at 0x1a2f2a94a8>"
      ]
     },
     "execution_count": 25,
     "metadata": {},
     "output_type": "execute_result"
    }
   ],
   "source": [
    "# Fit the model to the training data\n",
    "model.fit(\n",
    "    X_train_scaled,\n",
    "    y_train_categorical,\n",
    "    epochs=100,\n",
    "    shuffle=True,\n",
    "    verbose=2\n",
    ")\n"
   ]
  },
  {
   "cell_type": "code",
   "execution_count": 26,
   "metadata": {},
   "outputs": [],
   "source": [
    "deep_model = Sequential()\n",
    "deep_model.add(Dense(units=2, activation='tanh', input_dim=9))\n",
    "deep_model.add(Dense(units=2, activation='relu'))\n",
    "deep_model.add(Dense(units=2, activation='softmax'))"
   ]
  },
  {
   "cell_type": "code",
   "execution_count": 27,
   "metadata": {},
   "outputs": [
    {
     "name": "stdout",
     "output_type": "stream",
     "text": [
      "Epoch 1/10\n",
      " - 0s - loss: 0.8266 - acc: 0.1374\n",
      "Epoch 2/10\n",
      " - 0s - loss: 0.7494 - acc: 0.2951\n",
      "Epoch 3/10\n",
      " - 0s - loss: 0.7091 - acc: 0.5619\n",
      "Epoch 4/10\n",
      " - 0s - loss: 0.6869 - acc: 0.6105\n",
      "Epoch 5/10\n",
      " - 0s - loss: 0.6724 - acc: 0.6360\n",
      "Epoch 6/10\n",
      " - 0s - loss: 0.6635 - acc: 0.6405\n",
      "Epoch 7/10\n",
      " - 0s - loss: 0.6586 - acc: 0.6405\n",
      "Epoch 8/10\n",
      " - 0s - loss: 0.6557 - acc: 0.6410\n",
      "Epoch 9/10\n",
      " - 0s - loss: 0.6538 - acc: 0.6416\n",
      "Epoch 10/10\n",
      " - 0s - loss: 0.6526 - acc: 0.6433\n"
     ]
    },
    {
     "data": {
      "text/plain": [
       "<tensorflow.python.keras.callbacks.History at 0x1a2fc1c978>"
      ]
     },
     "execution_count": 27,
     "metadata": {},
     "output_type": "execute_result"
    }
   ],
   "source": [
    "deep_model.compile(optimizer='adam',\n",
    "                   loss='categorical_crossentropy',\n",
    "                   metrics=['accuracy'])\n",
    "\n",
    "deep_model.fit(\n",
    "    X_train_scaled,\n",
    "    y_train_categorical,\n",
    "    epochs=10,\n",
    "    shuffle=True,\n",
    "    verbose=2\n",
    ")"
   ]
  },
  {
   "cell_type": "code",
   "execution_count": 28,
   "metadata": {},
   "outputs": [
    {
     "name": "stdout",
     "output_type": "stream",
     "text": [
      " - 0s - loss: 0.2993 - acc: 0.8898\n",
      "Normal Neural Network - Loss: 0.29925310798620774, Accuracy: 0.8898305296897888\n"
     ]
    }
   ],
   "source": [
    "model_loss, model_accuracy = model.evaluate(\n",
    "    X_test_scaled, y_test_categorical, verbose=2)\n",
    "print(\n",
    "    f\"Normal Neural Network - Loss: {model_loss}, Accuracy: {model_accuracy}\")"
   ]
  },
  {
   "cell_type": "code",
   "execution_count": 29,
   "metadata": {},
   "outputs": [
    {
     "name": "stdout",
     "output_type": "stream",
     "text": [
      " - 0s - loss: 0.6535 - acc: 0.6407\n",
      "Deep Neural Network - Loss: 0.653541510185953, Accuracy: 0.6406779885292053\n"
     ]
    }
   ],
   "source": [
    "model_loss, model_accuracy = deep_model.evaluate(\n",
    "    X_test_scaled, y_test_categorical, verbose=2)\n",
    "print(f\"Deep Neural Network - Loss: {model_loss}, Accuracy: {model_accuracy}\")"
   ]
  },
  {
   "cell_type": "code",
   "execution_count": 30,
   "metadata": {},
   "outputs": [
    {
     "name": "stderr",
     "output_type": "stream",
     "text": [
      "/Users/kyleeng/anaconda3/envs/PythonData/lib/python3.7/site-packages/sklearn/linear_model/logistic.py:433: FutureWarning: Default solver will be changed to 'lbfgs' in 0.22. Specify a solver to silence this warning.\n",
      "  FutureWarning)\n"
     ]
    },
    {
     "data": {
      "text/html": [
       "<div>\n",
       "<style scoped>\n",
       "    .dataframe tbody tr th:only-of-type {\n",
       "        vertical-align: middle;\n",
       "    }\n",
       "\n",
       "    .dataframe tbody tr th {\n",
       "        vertical-align: top;\n",
       "    }\n",
       "\n",
       "    .dataframe thead th {\n",
       "        text-align: right;\n",
       "    }\n",
       "</style>\n",
       "<table border=\"1\" class=\"dataframe\">\n",
       "  <thead>\n",
       "    <tr style=\"text-align: right;\">\n",
       "      <th></th>\n",
       "      <th>prediction</th>\n",
       "      <th>actual</th>\n",
       "    </tr>\n",
       "  </thead>\n",
       "  <tbody>\n",
       "    <tr>\n",
       "      <th>921</th>\n",
       "      <td>individual</td>\n",
       "      <td>individual</td>\n",
       "    </tr>\n",
       "    <tr>\n",
       "      <th>655</th>\n",
       "      <td>individual</td>\n",
       "      <td>individual</td>\n",
       "    </tr>\n",
       "    <tr>\n",
       "      <th>1297</th>\n",
       "      <td>individual</td>\n",
       "      <td>individual</td>\n",
       "    </tr>\n",
       "    <tr>\n",
       "      <th>621</th>\n",
       "      <td>individual</td>\n",
       "      <td>individual</td>\n",
       "    </tr>\n",
       "    <tr>\n",
       "      <th>7578</th>\n",
       "      <td>individual</td>\n",
       "      <td>individual</td>\n",
       "    </tr>\n",
       "  </tbody>\n",
       "</table>\n",
       "</div>"
      ],
      "text/plain": [
       "      prediction      actual\n",
       "921   individual  individual\n",
       "655   individual  individual\n",
       "1297  individual  individual\n",
       "621   individual  individual\n",
       "7578  individual  individual"
      ]
     },
     "execution_count": 30,
     "metadata": {},
     "output_type": "execute_result"
    }
   ],
   "source": [
    "from sklearn.linear_model import LogisticRegression\n",
    "classifier = LogisticRegression()\n",
    "classifier\n",
    "classifier.fit(X_train, y_train)\n",
    "\n",
    "# Prediction results on test data set\n",
    "predictions = classifier.predict(X_test)\n",
    "comparison = pd.DataFrame({\"prediction\": predictions, \"actual\": y_test})\n",
    "comparison.head()"
   ]
  },
  {
   "cell_type": "code",
   "execution_count": 31,
   "metadata": {},
   "outputs": [
    {
     "data": {
      "text/html": [
       "<div>\n",
       "<style scoped>\n",
       "    .dataframe tbody tr th:only-of-type {\n",
       "        vertical-align: middle;\n",
       "    }\n",
       "\n",
       "    .dataframe tbody tr th {\n",
       "        vertical-align: top;\n",
       "    }\n",
       "\n",
       "    .dataframe thead th {\n",
       "        text-align: right;\n",
       "    }\n",
       "</style>\n",
       "<table border=\"1\" class=\"dataframe\">\n",
       "  <thead>\n",
       "    <tr style=\"text-align: right;\">\n",
       "      <th></th>\n",
       "      <th>username</th>\n",
       "      <th>prediction</th>\n",
       "      <th>actual</th>\n",
       "    </tr>\n",
       "  </thead>\n",
       "  <tbody>\n",
       "    <tr>\n",
       "      <th>2</th>\n",
       "      <td>ChrisPawelski</td>\n",
       "      <td>individual</td>\n",
       "      <td>individual</td>\n",
       "    </tr>\n",
       "    <tr>\n",
       "      <th>10</th>\n",
       "      <td>Arvidinvest</td>\n",
       "      <td>individual</td>\n",
       "      <td>individual</td>\n",
       "    </tr>\n",
       "    <tr>\n",
       "      <th>17</th>\n",
       "      <td>pattyshort</td>\n",
       "      <td>individual</td>\n",
       "      <td>individual</td>\n",
       "    </tr>\n",
       "    <tr>\n",
       "      <th>21</th>\n",
       "      <td>HarshnaParoha</td>\n",
       "      <td>individual</td>\n",
       "      <td>individual</td>\n",
       "    </tr>\n",
       "    <tr>\n",
       "      <th>23</th>\n",
       "      <td>jsare34</td>\n",
       "      <td>individual</td>\n",
       "      <td>individual</td>\n",
       "    </tr>\n",
       "  </tbody>\n",
       "</table>\n",
       "</div>"
      ],
      "text/plain": [
       "         username  prediction      actual\n",
       "2   ChrisPawelski  individual  individual\n",
       "10    Arvidinvest  individual  individual\n",
       "17     pattyshort  individual  individual\n",
       "21  HarshnaParoha  individual  individual\n",
       "23        jsare34  individual  individual"
      ]
     },
     "execution_count": 31,
     "metadata": {},
     "output_type": "execute_result"
    }
   ],
   "source": [
    "# joined dataset so we can see usernames and predictions/actual side by side\n",
    "merged_comparsion = df.join(comparison, lsuffix='_caller', rsuffix='_other')\n",
    "merged_comparsion = merged_comparsion[[\"username\", \"prediction\", \"actual\"]]\n",
    "merged_comparsion = merged_comparsion.dropna(how=\"any\")\n",
    "merged_comparsion.head()"
   ]
  },
  {
   "cell_type": "code",
   "execution_count": 32,
   "metadata": {},
   "outputs": [
    {
     "data": {
      "text/html": [
       "<div>\n",
       "<style scoped>\n",
       "    .dataframe tbody tr th:only-of-type {\n",
       "        vertical-align: middle;\n",
       "    }\n",
       "\n",
       "    .dataframe tbody tr th {\n",
       "        vertical-align: top;\n",
       "    }\n",
       "\n",
       "    .dataframe thead th {\n",
       "        text-align: right;\n",
       "    }\n",
       "</style>\n",
       "<table border=\"1\" class=\"dataframe\">\n",
       "  <thead>\n",
       "    <tr style=\"text-align: right;\">\n",
       "      <th></th>\n",
       "      <th>prediction</th>\n",
       "      <th>actual</th>\n",
       "    </tr>\n",
       "  </thead>\n",
       "  <tbody>\n",
       "    <tr>\n",
       "      <th>1418</th>\n",
       "      <td>individual</td>\n",
       "      <td>business</td>\n",
       "    </tr>\n",
       "    <tr>\n",
       "      <th>163</th>\n",
       "      <td>individual</td>\n",
       "      <td>business</td>\n",
       "    </tr>\n",
       "    <tr>\n",
       "      <th>1113</th>\n",
       "      <td>individual</td>\n",
       "      <td>business</td>\n",
       "    </tr>\n",
       "    <tr>\n",
       "      <th>1923</th>\n",
       "      <td>individual</td>\n",
       "      <td>business</td>\n",
       "    </tr>\n",
       "    <tr>\n",
       "      <th>2019</th>\n",
       "      <td>individual</td>\n",
       "      <td>business</td>\n",
       "    </tr>\n",
       "  </tbody>\n",
       "</table>\n",
       "</div>"
      ],
      "text/plain": [
       "      prediction    actual\n",
       "1418  individual  business\n",
       "163   individual  business\n",
       "1113  individual  business\n",
       "1923  individual  business\n",
       "2019  individual  business"
      ]
     },
     "execution_count": 32,
     "metadata": {},
     "output_type": "execute_result"
    }
   ],
   "source": [
    "discrepencies = comparison[comparison[\"prediction\"] != comparison[\"actual\"]]\n",
    "discrepencies.head()"
   ]
  },
  {
   "cell_type": "code",
   "execution_count": 33,
   "metadata": {},
   "outputs": [],
   "source": [
    "# discrepencies_index = list(discrepencies.index)\n",
    "# discrepencies_index"
   ]
  },
  {
   "cell_type": "code",
   "execution_count": 34,
   "metadata": {},
   "outputs": [],
   "source": [
    "# df.loc[discrepencies_index].head()"
   ]
  },
  {
   "cell_type": "code",
   "execution_count": 35,
   "metadata": {},
   "outputs": [
    {
     "data": {
      "text/html": [
       "<div>\n",
       "<style scoped>\n",
       "    .dataframe tbody tr th:only-of-type {\n",
       "        vertical-align: middle;\n",
       "    }\n",
       "\n",
       "    .dataframe tbody tr th {\n",
       "        vertical-align: top;\n",
       "    }\n",
       "\n",
       "    .dataframe thead th {\n",
       "        text-align: right;\n",
       "    }\n",
       "</style>\n",
       "<table border=\"1\" class=\"dataframe\">\n",
       "  <thead>\n",
       "    <tr style=\"text-align: right;\">\n",
       "      <th></th>\n",
       "      <th>username</th>\n",
       "      <th>prediction</th>\n",
       "      <th>actual</th>\n",
       "    </tr>\n",
       "  </thead>\n",
       "  <tbody>\n",
       "    <tr>\n",
       "      <th>28</th>\n",
       "      <td>Snap_Cap</td>\n",
       "      <td>individual</td>\n",
       "      <td>business</td>\n",
       "    </tr>\n",
       "    <tr>\n",
       "      <th>50</th>\n",
       "      <td>72Services</td>\n",
       "      <td>individual</td>\n",
       "      <td>business</td>\n",
       "    </tr>\n",
       "    <tr>\n",
       "      <th>67</th>\n",
       "      <td>RyanHur06436445</td>\n",
       "      <td>individual</td>\n",
       "      <td>business</td>\n",
       "    </tr>\n",
       "    <tr>\n",
       "      <th>87</th>\n",
       "      <td>BridgeBayCap</td>\n",
       "      <td>individual</td>\n",
       "      <td>business</td>\n",
       "    </tr>\n",
       "    <tr>\n",
       "      <th>94</th>\n",
       "      <td>MissionPOSSlBLE</td>\n",
       "      <td>individual</td>\n",
       "      <td>business</td>\n",
       "    </tr>\n",
       "  </tbody>\n",
       "</table>\n",
       "</div>"
      ],
      "text/plain": [
       "           username  prediction    actual\n",
       "28         Snap_Cap  individual  business\n",
       "50       72Services  individual  business\n",
       "67  RyanHur06436445  individual  business\n",
       "87     BridgeBayCap  individual  business\n",
       "94  MissionPOSSlBLE  individual  business"
      ]
     },
     "execution_count": 35,
     "metadata": {},
     "output_type": "execute_result"
    }
   ],
   "source": [
    "merged_discrepencies = df.join(discrepencies, lsuffix='_caller', rsuffix='_other')\n",
    "merged_discrepencies = merged_discrepencies[[\"username\", \"prediction\", \"actual\"]]\n",
    "merged_discrepencies = merged_discrepencies.dropna(how=\"any\")\n",
    "merged_discrepencies.head()"
   ]
  },
  {
   "cell_type": "code",
   "execution_count": 36,
   "metadata": {},
   "outputs": [
    {
     "data": {
      "text/plain": [
       "1.0"
      ]
     },
     "execution_count": 36,
     "metadata": {},
     "output_type": "execute_result"
    }
   ],
   "source": [
    "# Create a random forest classifier\n",
    "from sklearn.ensemble import RandomForestClassifier\n",
    "rf = RandomForestClassifier(n_estimators=200)\n",
    "rf = rf.fit(X_train_scaled, y_train_categorical)\n",
    "rf.score(X_train_scaled, y_train_categorical)"
   ]
  },
  {
   "cell_type": "code",
   "execution_count": 37,
   "metadata": {},
   "outputs": [
    {
     "data": {
      "text/plain": [
       "array([ 5.69941048,  5.25206931,  4.8670921 ,  6.21140799,  5.64649022,\n",
       "       29.18841991, 30.22521111,  5.73129157,  7.17860731])"
      ]
     },
     "execution_count": 37,
     "metadata": {},
     "output_type": "execute_result"
    }
   ],
   "source": [
    "# Get weights that machine defined, multiplied by 100 to get percents\n",
    "importances = rf.feature_importances_*100\n",
    "importances"
   ]
  },
  {
   "cell_type": "code",
   "execution_count": 38,
   "metadata": {},
   "outputs": [
    {
     "data": {
      "text/plain": [
       "[(30.225211108623963, 'face_detection'),\n",
       " (29.188419911238146, 'color_number'),\n",
       " (7.178607311713744, 'url_detect'),\n",
       " (6.211407991747113, 'likes'),\n",
       " (5.731291574432518, 'follower/following_ratio'),\n",
       " (5.699410478320505, 'tweets'),\n",
       " (5.646490215150668, 'media'),\n",
       " (5.25206931374147, 'following'),\n",
       " (4.867092095031887, 'followers')]"
      ]
     },
     "execution_count": 38,
     "metadata": {},
     "output_type": "execute_result"
    }
   ],
   "source": [
    "sorted(zip(importances, X), reverse=True)"
   ]
  },
  {
   "cell_type": "code",
   "execution_count": 39,
   "metadata": {},
   "outputs": [],
   "source": [
    "# Ideas for presentation: bar graphs of weights, examples of discrepensices with discussion why this may be,\n",
    "# possible to create graphs like in logistic regression activity? Will need to research when I'm not tired,\n",
    "# \n"
   ]
  },
  {
   "cell_type": "code",
   "execution_count": 40,
   "metadata": {},
   "outputs": [
    {
     "data": {
      "text/html": [
       "<div>\n",
       "<style scoped>\n",
       "    .dataframe tbody tr th:only-of-type {\n",
       "        vertical-align: middle;\n",
       "    }\n",
       "\n",
       "    .dataframe tbody tr th {\n",
       "        vertical-align: top;\n",
       "    }\n",
       "\n",
       "    .dataframe thead th {\n",
       "        text-align: right;\n",
       "    }\n",
       "</style>\n",
       "<table border=\"1\" class=\"dataframe\">\n",
       "  <thead>\n",
       "    <tr style=\"text-align: right;\">\n",
       "      <th></th>\n",
       "      <th>label</th>\n",
       "      <th>username</th>\n",
       "      <th>tweets</th>\n",
       "      <th>following</th>\n",
       "      <th>followers</th>\n",
       "      <th>likes</th>\n",
       "      <th>media</th>\n",
       "      <th>color_number</th>\n",
       "      <th>face_detection</th>\n",
       "      <th>follower/following_ratio</th>\n",
       "      <th>url_detect</th>\n",
       "    </tr>\n",
       "  </thead>\n",
       "  <tbody>\n",
       "    <tr>\n",
       "      <th>14</th>\n",
       "      <td>NaN</td>\n",
       "      <td>JonnnnyBrown</td>\n",
       "      <td>0</td>\n",
       "      <td>682</td>\n",
       "      <td>33</td>\n",
       "      <td>10</td>\n",
       "      <td>0</td>\n",
       "      <td>184</td>\n",
       "      <td>0.0</td>\n",
       "      <td>0.048387</td>\n",
       "      <td>0</td>\n",
       "    </tr>\n",
       "    <tr>\n",
       "      <th>105</th>\n",
       "      <td>NaN</td>\n",
       "      <td>caitiecouch325</td>\n",
       "      <td>13</td>\n",
       "      <td>90</td>\n",
       "      <td>9</td>\n",
       "      <td>29</td>\n",
       "      <td>1</td>\n",
       "      <td>33377</td>\n",
       "      <td>1.0</td>\n",
       "      <td>0.100000</td>\n",
       "      <td>1</td>\n",
       "    </tr>\n",
       "    <tr>\n",
       "      <th>137</th>\n",
       "      <td>NaN</td>\n",
       "      <td>SadaKaloZia</td>\n",
       "      <td>695</td>\n",
       "      <td>3861</td>\n",
       "      <td>511</td>\n",
       "      <td>13</td>\n",
       "      <td>231</td>\n",
       "      <td>38147</td>\n",
       "      <td>1.0</td>\n",
       "      <td>0.132349</td>\n",
       "      <td>1</td>\n",
       "    </tr>\n",
       "    <tr>\n",
       "      <th>216</th>\n",
       "      <td>NaN</td>\n",
       "      <td>MusketeersTele</td>\n",
       "      <td>103</td>\n",
       "      <td>255</td>\n",
       "      <td>22</td>\n",
       "      <td>110</td>\n",
       "      <td>4</td>\n",
       "      <td>106</td>\n",
       "      <td>0.0</td>\n",
       "      <td>0.086275</td>\n",
       "      <td>0</td>\n",
       "    </tr>\n",
       "    <tr>\n",
       "      <th>231</th>\n",
       "      <td>NaN</td>\n",
       "      <td>repport4</td>\n",
       "      <td>14</td>\n",
       "      <td>46</td>\n",
       "      <td>12</td>\n",
       "      <td>21</td>\n",
       "      <td>1</td>\n",
       "      <td>9045</td>\n",
       "      <td>0.0</td>\n",
       "      <td>0.260870</td>\n",
       "      <td>0</td>\n",
       "    </tr>\n",
       "  </tbody>\n",
       "</table>\n",
       "</div>"
      ],
      "text/plain": [
       "    label        username  tweets  following  followers  likes  media  \\\n",
       "14    NaN    JonnnnyBrown       0        682         33     10      0   \n",
       "105   NaN  caitiecouch325      13         90          9     29      1   \n",
       "137   NaN     SadaKaloZia     695       3861        511     13    231   \n",
       "216   NaN  MusketeersTele     103        255         22    110      4   \n",
       "231   NaN        repport4      14         46         12     21      1   \n",
       "\n",
       "     color_number  face_detection  follower/following_ratio  url_detect  \n",
       "14            184             0.0                  0.048387           0  \n",
       "105         33377             1.0                  0.100000           1  \n",
       "137         38147             1.0                  0.132349           1  \n",
       "216           106             0.0                  0.086275           0  \n",
       "231          9045             0.0                  0.260870           0  "
      ]
     },
     "execution_count": 40,
     "metadata": {},
     "output_type": "execute_result"
    }
   ],
   "source": [
    "unclassified = pd.read_excel(\"Twitter_Data_Final_v1.xlsx\")\n",
    "\n",
    "unclassified = unclassified[unclassified.face_detection != 999]\n",
    "\n",
    "array = []\n",
    "for i in list(unclassified[\"url\"]):\n",
    "    if str(i) != \"nan\":\n",
    "        array.append(1)\n",
    "    else:\n",
    "        array.append(0)\n",
    "unclassified[\"url_detect\"] = array\n",
    "\n",
    "unclassified = unclassified.drop(columns = [\"name\", \"id\", \"url\", \"bio\", \"location\", \"join_date\", \"join_time\", \\\n",
    "                        \"private\", \"verified\", \"profile_image_url\", \"background_image\"])\n",
    "\n",
    "unclassified = unclassified[unclassified.label != \"business\"]\n",
    "unclassified = unclassified[unclassified.label != \"individual\"]\n",
    "\n",
    "\n",
    "# unclassified = unclassified.dropna(how=\"any\")\n",
    "\n",
    "unclassified_X = unclassified.drop([\"label\", \"username\"], axis=1)\n",
    "unclassified.head()"
   ]
  },
  {
   "cell_type": "code",
   "execution_count": 41,
   "metadata": {},
   "outputs": [
    {
     "data": {
      "text/plain": [
       "(8762, 11)"
      ]
     },
     "execution_count": 41,
     "metadata": {},
     "output_type": "execute_result"
    }
   ],
   "source": [
    "unclassified.shape"
   ]
  },
  {
   "cell_type": "code",
   "execution_count": 42,
   "metadata": {},
   "outputs": [
    {
     "data": {
      "text/plain": [
       "(8724, 9)"
      ]
     },
     "execution_count": 42,
     "metadata": {},
     "output_type": "execute_result"
    }
   ],
   "source": [
    "unclassified_X = unclassified_X.dropna(how=\"any\")\n",
    "unclassified_X.head()\n",
    "unclassified_X.shape"
   ]
  },
  {
   "cell_type": "code",
   "execution_count": 43,
   "metadata": {},
   "outputs": [],
   "source": [
    "# Predict the class (purple or yellow) of the new data point\n",
    "unclassified_predictions = classifier.predict(unclassified_X)\n",
    "unclassified_predictions\n",
    "\n",
    "\n",
    "unclassified_pred_df = pd.DataFrame({\"unclassified predictions\": unclassified_predictions})\n",
    "# unclassified_df.head()"
   ]
  },
  {
   "cell_type": "code",
   "execution_count": 44,
   "metadata": {},
   "outputs": [
    {
     "data": {
      "text/html": [
       "<div>\n",
       "<style scoped>\n",
       "    .dataframe tbody tr th:only-of-type {\n",
       "        vertical-align: middle;\n",
       "    }\n",
       "\n",
       "    .dataframe tbody tr th {\n",
       "        vertical-align: top;\n",
       "    }\n",
       "\n",
       "    .dataframe thead th {\n",
       "        text-align: right;\n",
       "    }\n",
       "</style>\n",
       "<table border=\"1\" class=\"dataframe\">\n",
       "  <thead>\n",
       "    <tr style=\"text-align: right;\">\n",
       "      <th></th>\n",
       "      <th>username</th>\n",
       "      <th>unclassified predictions</th>\n",
       "    </tr>\n",
       "  </thead>\n",
       "  <tbody>\n",
       "    <tr>\n",
       "      <th>14</th>\n",
       "      <td>JonnnnyBrown</td>\n",
       "      <td>business</td>\n",
       "    </tr>\n",
       "    <tr>\n",
       "      <th>1388</th>\n",
       "      <td>FinResister</td>\n",
       "      <td>business</td>\n",
       "    </tr>\n",
       "    <tr>\n",
       "      <th>1558</th>\n",
       "      <td>TheTaylorRichey</td>\n",
       "      <td>business</td>\n",
       "    </tr>\n",
       "    <tr>\n",
       "      <th>1565</th>\n",
       "      <td>NaterTot33</td>\n",
       "      <td>business</td>\n",
       "    </tr>\n",
       "    <tr>\n",
       "      <th>1593</th>\n",
       "      <td>worthynow</td>\n",
       "      <td>business</td>\n",
       "    </tr>\n",
       "    <tr>\n",
       "      <th>1611</th>\n",
       "      <td>HutchcoDisplays</td>\n",
       "      <td>business</td>\n",
       "    </tr>\n",
       "    <tr>\n",
       "      <th>1743</th>\n",
       "      <td>AiAssist</td>\n",
       "      <td>business</td>\n",
       "    </tr>\n",
       "    <tr>\n",
       "      <th>1774</th>\n",
       "      <td>QAmaryclements</td>\n",
       "      <td>business</td>\n",
       "    </tr>\n",
       "    <tr>\n",
       "      <th>1795</th>\n",
       "      <td>BWARE83</td>\n",
       "      <td>business</td>\n",
       "    </tr>\n",
       "    <tr>\n",
       "      <th>1817</th>\n",
       "      <td>InteleLead</td>\n",
       "      <td>business</td>\n",
       "    </tr>\n",
       "    <tr>\n",
       "      <th>1840</th>\n",
       "      <td>Eric_StuffSavvy</td>\n",
       "      <td>business</td>\n",
       "    </tr>\n",
       "    <tr>\n",
       "      <th>1846</th>\n",
       "      <td>rogerbiz</td>\n",
       "      <td>business</td>\n",
       "    </tr>\n",
       "    <tr>\n",
       "      <th>1875</th>\n",
       "      <td>Fintech_Global</td>\n",
       "      <td>business</td>\n",
       "    </tr>\n",
       "    <tr>\n",
       "      <th>1880</th>\n",
       "      <td>AnthonyHoad</td>\n",
       "      <td>business</td>\n",
       "    </tr>\n",
       "    <tr>\n",
       "      <th>1971</th>\n",
       "      <td>CapturaSearch</td>\n",
       "      <td>business</td>\n",
       "    </tr>\n",
       "    <tr>\n",
       "      <th>1983</th>\n",
       "      <td>walikha</td>\n",
       "      <td>business</td>\n",
       "    </tr>\n",
       "    <tr>\n",
       "      <th>2126</th>\n",
       "      <td>JMSGLOBAL1</td>\n",
       "      <td>business</td>\n",
       "    </tr>\n",
       "    <tr>\n",
       "      <th>2176</th>\n",
       "      <td>PeddleMatt</td>\n",
       "      <td>business</td>\n",
       "    </tr>\n",
       "    <tr>\n",
       "      <th>2283</th>\n",
       "      <td>SamrahKazmi</td>\n",
       "      <td>business</td>\n",
       "    </tr>\n",
       "    <tr>\n",
       "      <th>2291</th>\n",
       "      <td>MaggieHeroDog</td>\n",
       "      <td>business</td>\n",
       "    </tr>\n",
       "    <tr>\n",
       "      <th>2304</th>\n",
       "      <td>dinxtait</td>\n",
       "      <td>business</td>\n",
       "    </tr>\n",
       "    <tr>\n",
       "      <th>2309</th>\n",
       "      <td>BlueBlazeFA</td>\n",
       "      <td>business</td>\n",
       "    </tr>\n",
       "    <tr>\n",
       "      <th>2325</th>\n",
       "      <td>RamsSteve</td>\n",
       "      <td>business</td>\n",
       "    </tr>\n",
       "    <tr>\n",
       "      <th>2335</th>\n",
       "      <td>inspire_trade</td>\n",
       "      <td>business</td>\n",
       "    </tr>\n",
       "    <tr>\n",
       "      <th>2341</th>\n",
       "      <td>simonthinkz</td>\n",
       "      <td>business</td>\n",
       "    </tr>\n",
       "    <tr>\n",
       "      <th>2352</th>\n",
       "      <td>adam_r_fisher</td>\n",
       "      <td>business</td>\n",
       "    </tr>\n",
       "    <tr>\n",
       "      <th>2453</th>\n",
       "      <td>jarazi</td>\n",
       "      <td>business</td>\n",
       "    </tr>\n",
       "    <tr>\n",
       "      <th>2463</th>\n",
       "      <td>avitti</td>\n",
       "      <td>business</td>\n",
       "    </tr>\n",
       "    <tr>\n",
       "      <th>2464</th>\n",
       "      <td>yasminetamarama</td>\n",
       "      <td>business</td>\n",
       "    </tr>\n",
       "    <tr>\n",
       "      <th>2523</th>\n",
       "      <td>Antmann99</td>\n",
       "      <td>business</td>\n",
       "    </tr>\n",
       "    <tr>\n",
       "      <th>...</th>\n",
       "      <td>...</td>\n",
       "      <td>...</td>\n",
       "    </tr>\n",
       "    <tr>\n",
       "      <th>8230</th>\n",
       "      <td>ChrisRocheDC</td>\n",
       "      <td>business</td>\n",
       "    </tr>\n",
       "    <tr>\n",
       "      <th>8237</th>\n",
       "      <td>how_to_jet_set</td>\n",
       "      <td>business</td>\n",
       "    </tr>\n",
       "    <tr>\n",
       "      <th>8258</th>\n",
       "      <td>GBQ_Tyler</td>\n",
       "      <td>business</td>\n",
       "    </tr>\n",
       "    <tr>\n",
       "      <th>8261</th>\n",
       "      <td>TriForce_Tech</td>\n",
       "      <td>business</td>\n",
       "    </tr>\n",
       "    <tr>\n",
       "      <th>8282</th>\n",
       "      <td>jdeniso</td>\n",
       "      <td>business</td>\n",
       "    </tr>\n",
       "    <tr>\n",
       "      <th>8322</th>\n",
       "      <td>willi_timothy</td>\n",
       "      <td>business</td>\n",
       "    </tr>\n",
       "    <tr>\n",
       "      <th>8327</th>\n",
       "      <td>TotalMakeoverTV</td>\n",
       "      <td>business</td>\n",
       "    </tr>\n",
       "    <tr>\n",
       "      <th>8357</th>\n",
       "      <td>AllyInvest</td>\n",
       "      <td>business</td>\n",
       "    </tr>\n",
       "    <tr>\n",
       "      <th>8365</th>\n",
       "      <td>brillbusblogs</td>\n",
       "      <td>business</td>\n",
       "    </tr>\n",
       "    <tr>\n",
       "      <th>8386</th>\n",
       "      <td>EduardoErives</td>\n",
       "      <td>business</td>\n",
       "    </tr>\n",
       "    <tr>\n",
       "      <th>8389</th>\n",
       "      <td>Corp_Prophet</td>\n",
       "      <td>business</td>\n",
       "    </tr>\n",
       "    <tr>\n",
       "      <th>8400</th>\n",
       "      <td>nagardner</td>\n",
       "      <td>business</td>\n",
       "    </tr>\n",
       "    <tr>\n",
       "      <th>8445</th>\n",
       "      <td>healthcaresbe</td>\n",
       "      <td>business</td>\n",
       "    </tr>\n",
       "    <tr>\n",
       "      <th>8453</th>\n",
       "      <td>benoitlacroix</td>\n",
       "      <td>business</td>\n",
       "    </tr>\n",
       "    <tr>\n",
       "      <th>8454</th>\n",
       "      <td>Nadia_Gonzalez</td>\n",
       "      <td>business</td>\n",
       "    </tr>\n",
       "    <tr>\n",
       "      <th>8457</th>\n",
       "      <td>ericmass_</td>\n",
       "      <td>business</td>\n",
       "    </tr>\n",
       "    <tr>\n",
       "      <th>8474</th>\n",
       "      <td>mgoldwasser</td>\n",
       "      <td>business</td>\n",
       "    </tr>\n",
       "    <tr>\n",
       "      <th>8545</th>\n",
       "      <td>GerardoPuelles</td>\n",
       "      <td>business</td>\n",
       "    </tr>\n",
       "    <tr>\n",
       "      <th>8582</th>\n",
       "      <td>GOD_ovr_money</td>\n",
       "      <td>business</td>\n",
       "    </tr>\n",
       "    <tr>\n",
       "      <th>8586</th>\n",
       "      <td>BizFairfield</td>\n",
       "      <td>business</td>\n",
       "    </tr>\n",
       "    <tr>\n",
       "      <th>8619</th>\n",
       "      <td>MerlinDigital</td>\n",
       "      <td>business</td>\n",
       "    </tr>\n",
       "    <tr>\n",
       "      <th>8621</th>\n",
       "      <td>Johntaku84</td>\n",
       "      <td>business</td>\n",
       "    </tr>\n",
       "    <tr>\n",
       "      <th>8643</th>\n",
       "      <td>stratpad</td>\n",
       "      <td>business</td>\n",
       "    </tr>\n",
       "    <tr>\n",
       "      <th>8646</th>\n",
       "      <td>jones22_b</td>\n",
       "      <td>business</td>\n",
       "    </tr>\n",
       "    <tr>\n",
       "      <th>8659</th>\n",
       "      <td>EPX_Payments</td>\n",
       "      <td>business</td>\n",
       "    </tr>\n",
       "    <tr>\n",
       "      <th>8668</th>\n",
       "      <td>nextmoney_</td>\n",
       "      <td>business</td>\n",
       "    </tr>\n",
       "    <tr>\n",
       "      <th>8681</th>\n",
       "      <td>VerifyInvestor</td>\n",
       "      <td>business</td>\n",
       "    </tr>\n",
       "    <tr>\n",
       "      <th>8704</th>\n",
       "      <td>GerryYChan</td>\n",
       "      <td>business</td>\n",
       "    </tr>\n",
       "    <tr>\n",
       "      <th>8706</th>\n",
       "      <td>FinanceMarkG</td>\n",
       "      <td>business</td>\n",
       "    </tr>\n",
       "    <tr>\n",
       "      <th>8711</th>\n",
       "      <td>TheBSAGroupInc</td>\n",
       "      <td>business</td>\n",
       "    </tr>\n",
       "  </tbody>\n",
       "</table>\n",
       "<p>235 rows × 2 columns</p>\n",
       "</div>"
      ],
      "text/plain": [
       "             username unclassified predictions\n",
       "14       JonnnnyBrown                 business\n",
       "1388      FinResister                 business\n",
       "1558  TheTaylorRichey                 business\n",
       "1565       NaterTot33                 business\n",
       "1593        worthynow                 business\n",
       "1611  HutchcoDisplays                 business\n",
       "1743         AiAssist                 business\n",
       "1774   QAmaryclements                 business\n",
       "1795          BWARE83                 business\n",
       "1817       InteleLead                 business\n",
       "1840  Eric_StuffSavvy                 business\n",
       "1846         rogerbiz                 business\n",
       "1875   Fintech_Global                 business\n",
       "1880      AnthonyHoad                 business\n",
       "1971    CapturaSearch                 business\n",
       "1983          walikha                 business\n",
       "2126       JMSGLOBAL1                 business\n",
       "2176       PeddleMatt                 business\n",
       "2283      SamrahKazmi                 business\n",
       "2291    MaggieHeroDog                 business\n",
       "2304         dinxtait                 business\n",
       "2309      BlueBlazeFA                 business\n",
       "2325        RamsSteve                 business\n",
       "2335    inspire_trade                 business\n",
       "2341      simonthinkz                 business\n",
       "2352    adam_r_fisher                 business\n",
       "2453           jarazi                 business\n",
       "2463           avitti                 business\n",
       "2464  yasminetamarama                 business\n",
       "2523        Antmann99                 business\n",
       "...               ...                      ...\n",
       "8230     ChrisRocheDC                 business\n",
       "8237   how_to_jet_set                 business\n",
       "8258        GBQ_Tyler                 business\n",
       "8261    TriForce_Tech                 business\n",
       "8282          jdeniso                 business\n",
       "8322    willi_timothy                 business\n",
       "8327  TotalMakeoverTV                 business\n",
       "8357       AllyInvest                 business\n",
       "8365    brillbusblogs                 business\n",
       "8386    EduardoErives                 business\n",
       "8389     Corp_Prophet                 business\n",
       "8400        nagardner                 business\n",
       "8445    healthcaresbe                 business\n",
       "8453    benoitlacroix                 business\n",
       "8454   Nadia_Gonzalez                 business\n",
       "8457        ericmass_                 business\n",
       "8474      mgoldwasser                 business\n",
       "8545   GerardoPuelles                 business\n",
       "8582    GOD_ovr_money                 business\n",
       "8586     BizFairfield                 business\n",
       "8619    MerlinDigital                 business\n",
       "8621       Johntaku84                 business\n",
       "8643         stratpad                 business\n",
       "8646        jones22_b                 business\n",
       "8659     EPX_Payments                 business\n",
       "8668       nextmoney_                 business\n",
       "8681   VerifyInvestor                 business\n",
       "8704       GerryYChan                 business\n",
       "8706     FinanceMarkG                 business\n",
       "8711   TheBSAGroupInc                 business\n",
       "\n",
       "[235 rows x 2 columns]"
      ]
     },
     "execution_count": 44,
     "metadata": {},
     "output_type": "execute_result"
    }
   ],
   "source": [
    "# \n",
    "\n",
    "# POSSIBLE INCORRECT JOIN\n",
    "\n",
    "\n",
    "\n",
    "# \n",
    "unclassified_merge = unclassified.join(unclassified_pred_df, lsuffix='_caller', rsuffix='_other')\n",
    "unclassified_merge = unclassified_merge[[\"username\", \"unclassified predictions\"]]\n",
    "# unclassified_df = unclassified_df.dropna(how=\"any\")\n",
    "unclassified_merge.loc[unclassified_merge[\"unclassified predictions\"] == \"business\"]"
   ]
  },
  {
   "cell_type": "code",
   "execution_count": null,
   "metadata": {},
   "outputs": [],
   "source": []
  }
 ],
 "metadata": {
  "kernelspec": {
   "display_name": "Python 3",
   "language": "python",
   "name": "python3"
  },
  "language_info": {
   "codemirror_mode": {
    "name": "ipython",
    "version": 3
   },
   "file_extension": ".py",
   "mimetype": "text/x-python",
   "name": "python",
   "nbconvert_exporter": "python",
   "pygments_lexer": "ipython3",
   "version": "3.7.1"
  }
 },
 "nbformat": 4,
 "nbformat_minor": 2
}
