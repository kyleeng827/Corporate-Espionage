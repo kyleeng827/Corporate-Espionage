{
 "cells": [
  {
   "cell_type": "markdown",
   "metadata": {},
   "source": [
    "includes everything except words analysis"
   ]
  },
  {
   "cell_type": "code",
   "execution_count": 1,
   "metadata": {},
   "outputs": [],
   "source": [
    "import pandas as pd\n",
    "from sklearn.model_selection import train_test_split\n",
    "from sklearn.neighbors import KNeighborsClassifier\n",
    "import matplotlib.pyplot as plt"
   ]
  },
  {
   "cell_type": "code",
   "execution_count": 2,
   "metadata": {},
   "outputs": [],
   "source": [
    "df = pd.read_excel(\"ml_test.xlsx\")"
   ]
  },
  {
   "cell_type": "code",
   "execution_count": 3,
   "metadata": {},
   "outputs": [
    {
     "data": {
      "text/html": [
       "<div>\n",
       "<style scoped>\n",
       "    .dataframe tbody tr th:only-of-type {\n",
       "        vertical-align: middle;\n",
       "    }\n",
       "\n",
       "    .dataframe tbody tr th {\n",
       "        vertical-align: top;\n",
       "    }\n",
       "\n",
       "    .dataframe thead th {\n",
       "        text-align: right;\n",
       "    }\n",
       "</style>\n",
       "<table border=\"1\" class=\"dataframe\">\n",
       "  <thead>\n",
       "    <tr style=\"text-align: right;\">\n",
       "      <th></th>\n",
       "      <th>label</th>\n",
       "      <th>name</th>\n",
       "      <th>username</th>\n",
       "      <th>bio</th>\n",
       "      <th>location</th>\n",
       "      <th>url</th>\n",
       "      <th>join_date</th>\n",
       "      <th>join_time</th>\n",
       "      <th>tweets</th>\n",
       "      <th>following</th>\n",
       "      <th>followers</th>\n",
       "      <th>likes</th>\n",
       "      <th>media</th>\n",
       "      <th>private</th>\n",
       "      <th>verified</th>\n",
       "      <th>profile_image_url</th>\n",
       "      <th>background_image</th>\n",
       "      <th>color_number</th>\n",
       "      <th>face_detection</th>\n",
       "      <th>Follower/following ratio</th>\n",
       "    </tr>\n",
       "  </thead>\n",
       "  <tbody>\n",
       "    <tr>\n",
       "      <th>0</th>\n",
       "      <td>Business</td>\n",
       "      <td>Avex Funding</td>\n",
       "      <td>avexfundingeast</td>\n",
       "      <td>We are now Better Mortgage. Follow us at @bett...</td>\n",
       "      <td>NaN</td>\n",
       "      <td>http://better.com</td>\n",
       "      <td>41823.0</td>\n",
       "      <td>0.619444</td>\n",
       "      <td>1495.0</td>\n",
       "      <td>1954.0</td>\n",
       "      <td>900.0</td>\n",
       "      <td>1969.0</td>\n",
       "      <td>493.0</td>\n",
       "      <td>0.0</td>\n",
       "      <td>0.0</td>\n",
       "      <td>https://pbs.twimg.com/profile_images/668877725...</td>\n",
       "      <td>https://pbs.twimg.com/profile_banners/26023041...</td>\n",
       "      <td>17.0</td>\n",
       "      <td>0.0</td>\n",
       "      <td>0.460594</td>\n",
       "    </tr>\n",
       "    <tr>\n",
       "      <th>1</th>\n",
       "      <td>Business</td>\n",
       "      <td>Harmoney</td>\n",
       "      <td>HarmoneyNZ</td>\n",
       "      <td>Borrow for less, invest for more - Harmoney is...</td>\n",
       "      <td>Auckland, New Zealand</td>\n",
       "      <td>http://www.harmoney.co.nz</td>\n",
       "      <td>41739.0</td>\n",
       "      <td>0.662500</td>\n",
       "      <td>1640.0</td>\n",
       "      <td>375.0</td>\n",
       "      <td>981.0</td>\n",
       "      <td>141.0</td>\n",
       "      <td>341.0</td>\n",
       "      <td>0.0</td>\n",
       "      <td>0.0</td>\n",
       "      <td>https://pbs.twimg.com/profile_images/638454145...</td>\n",
       "      <td>https://pbs.twimg.com/profile_banners/24376079...</td>\n",
       "      <td>17.0</td>\n",
       "      <td>0.0</td>\n",
       "      <td>2.616000</td>\n",
       "    </tr>\n",
       "    <tr>\n",
       "      <th>2</th>\n",
       "      <td>Business</td>\n",
       "      <td>ÃƒÂªtre</td>\n",
       "      <td>etretobe</td>\n",
       "      <td>Scales small businesses from start-up to matur...</td>\n",
       "      <td>NaN</td>\n",
       "      <td>http://etretobe.com</td>\n",
       "      <td>41583.0</td>\n",
       "      <td>0.658333</td>\n",
       "      <td>30.0</td>\n",
       "      <td>440.0</td>\n",
       "      <td>54.0</td>\n",
       "      <td>3.0</td>\n",
       "      <td>6.0</td>\n",
       "      <td>0.0</td>\n",
       "      <td>0.0</td>\n",
       "      <td>https://pbs.twimg.com/profile_images/688867880...</td>\n",
       "      <td>https://pbs.twimg.com/profile_banners/21770204...</td>\n",
       "      <td>18.0</td>\n",
       "      <td>0.0</td>\n",
       "      <td>0.122727</td>\n",
       "    </tr>\n",
       "    <tr>\n",
       "      <th>3</th>\n",
       "      <td>Business</td>\n",
       "      <td>InDebted</td>\n",
       "      <td>InDebtedHQ</td>\n",
       "      <td>A #fintech startup transforming the debt colle...</td>\n",
       "      <td>Sydney, New South Wales</td>\n",
       "      <td>https://www.indebted.co/</td>\n",
       "      <td>42473.0</td>\n",
       "      <td>0.994444</td>\n",
       "      <td>93.0</td>\n",
       "      <td>127.0</td>\n",
       "      <td>107.0</td>\n",
       "      <td>103.0</td>\n",
       "      <td>17.0</td>\n",
       "      <td>0.0</td>\n",
       "      <td>0.0</td>\n",
       "      <td>https://pbs.twimg.com/profile_images/110089932...</td>\n",
       "      <td>NaN</td>\n",
       "      <td>23.0</td>\n",
       "      <td>0.0</td>\n",
       "      <td>0.842520</td>\n",
       "    </tr>\n",
       "    <tr>\n",
       "      <th>4</th>\n",
       "      <td>Business</td>\n",
       "      <td>LinkedFinance.com</td>\n",
       "      <td>LinkedFinance</td>\n",
       "      <td>Linked Finance is IrelandÃ¢â‚¬â„¢s leading P2P...</td>\n",
       "      <td>Nationwide</td>\n",
       "      <td>http://www.linkedfinance.com</td>\n",
       "      <td>40432.0</td>\n",
       "      <td>0.688194</td>\n",
       "      <td>2930.0</td>\n",
       "      <td>2336.0</td>\n",
       "      <td>2722.0</td>\n",
       "      <td>1055.0</td>\n",
       "      <td>713.0</td>\n",
       "      <td>0.0</td>\n",
       "      <td>0.0</td>\n",
       "      <td>https://pbs.twimg.com/profile_images/668742326...</td>\n",
       "      <td>https://pbs.twimg.com/profile_banners/18968711...</td>\n",
       "      <td>32.0</td>\n",
       "      <td>0.0</td>\n",
       "      <td>1.165240</td>\n",
       "    </tr>\n",
       "  </tbody>\n",
       "</table>\n",
       "</div>"
      ],
      "text/plain": [
       "      label               name         username  \\\n",
       "0  Business       Avex Funding  avexfundingeast   \n",
       "1  Business           Harmoney       HarmoneyNZ   \n",
       "2  Business            ÃƒÂªtre         etretobe   \n",
       "3  Business           InDebted       InDebtedHQ   \n",
       "4  Business  LinkedFinance.com    LinkedFinance   \n",
       "\n",
       "                                                 bio                 location  \\\n",
       "0  We are now Better Mortgage. Follow us at @bett...                      NaN   \n",
       "1  Borrow for less, invest for more - Harmoney is...    Auckland, New Zealand   \n",
       "2  Scales small businesses from start-up to matur...                      NaN   \n",
       "3  A #fintech startup transforming the debt colle...  Sydney, New South Wales   \n",
       "4  Linked Finance is IrelandÃ¢â‚¬â„¢s leading P2P...               Nationwide   \n",
       "\n",
       "                            url  join_date  join_time  tweets  following  \\\n",
       "0             http://better.com    41823.0   0.619444  1495.0     1954.0   \n",
       "1     http://www.harmoney.co.nz    41739.0   0.662500  1640.0      375.0   \n",
       "2           http://etretobe.com    41583.0   0.658333    30.0      440.0   \n",
       "3      https://www.indebted.co/    42473.0   0.994444    93.0      127.0   \n",
       "4  http://www.linkedfinance.com    40432.0   0.688194  2930.0     2336.0   \n",
       "\n",
       "   followers   likes  media  private  verified  \\\n",
       "0      900.0  1969.0  493.0      0.0       0.0   \n",
       "1      981.0   141.0  341.0      0.0       0.0   \n",
       "2       54.0     3.0    6.0      0.0       0.0   \n",
       "3      107.0   103.0   17.0      0.0       0.0   \n",
       "4     2722.0  1055.0  713.0      0.0       0.0   \n",
       "\n",
       "                                   profile_image_url  \\\n",
       "0  https://pbs.twimg.com/profile_images/668877725...   \n",
       "1  https://pbs.twimg.com/profile_images/638454145...   \n",
       "2  https://pbs.twimg.com/profile_images/688867880...   \n",
       "3  https://pbs.twimg.com/profile_images/110089932...   \n",
       "4  https://pbs.twimg.com/profile_images/668742326...   \n",
       "\n",
       "                                    background_image  color_number  \\\n",
       "0  https://pbs.twimg.com/profile_banners/26023041...          17.0   \n",
       "1  https://pbs.twimg.com/profile_banners/24376079...          17.0   \n",
       "2  https://pbs.twimg.com/profile_banners/21770204...          18.0   \n",
       "3                                                NaN          23.0   \n",
       "4  https://pbs.twimg.com/profile_banners/18968711...          32.0   \n",
       "\n",
       "   face_detection  Follower/following ratio  \n",
       "0             0.0                  0.460594  \n",
       "1             0.0                  2.616000  \n",
       "2             0.0                  0.122727  \n",
       "3             0.0                  0.842520  \n",
       "4             0.0                  1.165240  "
      ]
     },
     "execution_count": 3,
     "metadata": {},
     "output_type": "execute_result"
    }
   ],
   "source": [
    "df.head()"
   ]
  },
  {
   "cell_type": "code",
   "execution_count": 4,
   "metadata": {},
   "outputs": [
    {
     "data": {
      "text/plain": [
       "(1681, 20)"
      ]
     },
     "execution_count": 4,
     "metadata": {},
     "output_type": "execute_result"
    }
   ],
   "source": [
    "df.shape"
   ]
  },
  {
   "cell_type": "code",
   "execution_count": 5,
   "metadata": {},
   "outputs": [
    {
     "data": {
      "text/plain": [
       "Index(['label', 'name', 'username', 'bio', 'location', 'url', 'join_date',\n",
       "       'join_time', 'tweets', 'following', 'followers', 'likes', 'media',\n",
       "       'private', 'verified', 'profile_image_url', 'background_image',\n",
       "       'color_number', 'face_detection', 'Follower/following ratio'],\n",
       "      dtype='object')"
      ]
     },
     "execution_count": 5,
     "metadata": {},
     "output_type": "execute_result"
    }
   ],
   "source": [
    "df.columns"
   ]
  },
  {
   "cell_type": "code",
   "execution_count": 6,
   "metadata": {},
   "outputs": [],
   "source": [
    "array = []\n",
    "for i in list(df[\"url\"]):\n",
    "    if str(i) != \"nan\":\n",
    "        array.append(1)\n",
    "    else:\n",
    "        array.append(0)\n",
    "df[\"url_detect\"] = array"
   ]
  },
  {
   "cell_type": "code",
   "execution_count": 7,
   "metadata": {},
   "outputs": [],
   "source": [
    "df = df.drop(columns = [\"name\", \"url\", \"username\", \"bio\", \"location\", \"join_date\", \"join_time\", \\\n",
    "                        \"private\", \"verified\", \"profile_image_url\", \"background_image\", \"following\", \"followers\"])"
   ]
  },
  {
   "cell_type": "code",
   "execution_count": 8,
   "metadata": {},
   "outputs": [
    {
     "data": {
      "text/html": [
       "<div>\n",
       "<style scoped>\n",
       "    .dataframe tbody tr th:only-of-type {\n",
       "        vertical-align: middle;\n",
       "    }\n",
       "\n",
       "    .dataframe tbody tr th {\n",
       "        vertical-align: top;\n",
       "    }\n",
       "\n",
       "    .dataframe thead th {\n",
       "        text-align: right;\n",
       "    }\n",
       "</style>\n",
       "<table border=\"1\" class=\"dataframe\">\n",
       "  <thead>\n",
       "    <tr style=\"text-align: right;\">\n",
       "      <th></th>\n",
       "      <th>label</th>\n",
       "      <th>tweets</th>\n",
       "      <th>likes</th>\n",
       "      <th>media</th>\n",
       "      <th>color_number</th>\n",
       "      <th>face_detection</th>\n",
       "      <th>Follower/following ratio</th>\n",
       "      <th>url_detect</th>\n",
       "    </tr>\n",
       "  </thead>\n",
       "  <tbody>\n",
       "    <tr>\n",
       "      <th>0</th>\n",
       "      <td>Business</td>\n",
       "      <td>1495.0</td>\n",
       "      <td>1969.0</td>\n",
       "      <td>493.0</td>\n",
       "      <td>17.0</td>\n",
       "      <td>0.0</td>\n",
       "      <td>0.460594</td>\n",
       "      <td>1</td>\n",
       "    </tr>\n",
       "    <tr>\n",
       "      <th>1</th>\n",
       "      <td>Business</td>\n",
       "      <td>1640.0</td>\n",
       "      <td>141.0</td>\n",
       "      <td>341.0</td>\n",
       "      <td>17.0</td>\n",
       "      <td>0.0</td>\n",
       "      <td>2.616000</td>\n",
       "      <td>1</td>\n",
       "    </tr>\n",
       "    <tr>\n",
       "      <th>2</th>\n",
       "      <td>Business</td>\n",
       "      <td>30.0</td>\n",
       "      <td>3.0</td>\n",
       "      <td>6.0</td>\n",
       "      <td>18.0</td>\n",
       "      <td>0.0</td>\n",
       "      <td>0.122727</td>\n",
       "      <td>1</td>\n",
       "    </tr>\n",
       "    <tr>\n",
       "      <th>3</th>\n",
       "      <td>Business</td>\n",
       "      <td>93.0</td>\n",
       "      <td>103.0</td>\n",
       "      <td>17.0</td>\n",
       "      <td>23.0</td>\n",
       "      <td>0.0</td>\n",
       "      <td>0.842520</td>\n",
       "      <td>1</td>\n",
       "    </tr>\n",
       "    <tr>\n",
       "      <th>4</th>\n",
       "      <td>Business</td>\n",
       "      <td>2930.0</td>\n",
       "      <td>1055.0</td>\n",
       "      <td>713.0</td>\n",
       "      <td>32.0</td>\n",
       "      <td>0.0</td>\n",
       "      <td>1.165240</td>\n",
       "      <td>1</td>\n",
       "    </tr>\n",
       "  </tbody>\n",
       "</table>\n",
       "</div>"
      ],
      "text/plain": [
       "      label  tweets   likes  media  color_number  face_detection  \\\n",
       "0  Business  1495.0  1969.0  493.0          17.0             0.0   \n",
       "1  Business  1640.0   141.0  341.0          17.0             0.0   \n",
       "2  Business    30.0     3.0    6.0          18.0             0.0   \n",
       "3  Business    93.0   103.0   17.0          23.0             0.0   \n",
       "4  Business  2930.0  1055.0  713.0          32.0             0.0   \n",
       "\n",
       "   Follower/following ratio  url_detect  \n",
       "0                  0.460594           1  \n",
       "1                  2.616000           1  \n",
       "2                  0.122727           1  \n",
       "3                  0.842520           1  \n",
       "4                  1.165240           1  "
      ]
     },
     "execution_count": 8,
     "metadata": {},
     "output_type": "execute_result"
    }
   ],
   "source": [
    "df.head()"
   ]
  },
  {
   "cell_type": "code",
   "execution_count": 9,
   "metadata": {},
   "outputs": [
    {
     "data": {
      "text/plain": [
       "0         Business\n",
       "1         Business\n",
       "2         Business\n",
       "3         Business\n",
       "4         Business\n",
       "5         Business\n",
       "6         Business\n",
       "7       Individual\n",
       "8         Business\n",
       "9         Business\n",
       "10        Business\n",
       "11        Business\n",
       "12        Business\n",
       "13        Business\n",
       "14        Business\n",
       "15        Business\n",
       "16      Individual\n",
       "17        Business\n",
       "18        Business\n",
       "19      Individual\n",
       "20      Individual\n",
       "21      Individual\n",
       "22      Individual\n",
       "23        Business\n",
       "24        Business\n",
       "25      Individual\n",
       "26        Business\n",
       "27        Business\n",
       "28        Business\n",
       "29      Individual\n",
       "           ...    \n",
       "1649    Individual\n",
       "1650    Individual\n",
       "1651    Individual\n",
       "1652    Individual\n",
       "1653    Individual\n",
       "1654    Individual\n",
       "1655    Individual\n",
       "1656    Individual\n",
       "1657    Individual\n",
       "1658    Individual\n",
       "1659    Individual\n",
       "1660    Individual\n",
       "1661    Individual\n",
       "1662    Individual\n",
       "1663    Individual\n",
       "1664    Individual\n",
       "1665    Individual\n",
       "1666    Individual\n",
       "1667    Individual\n",
       "1668    Individual\n",
       "1669    Individual\n",
       "1670    Individual\n",
       "1671    Individual\n",
       "1672      Business\n",
       "1673    Individual\n",
       "1674    Individual\n",
       "1675    Individual\n",
       "1676    Individual\n",
       "1677    Individual\n",
       "1678    Individual\n",
       "Name: label, Length: 1679, dtype: object"
      ]
     },
     "execution_count": 9,
     "metadata": {},
     "output_type": "execute_result"
    }
   ],
   "source": [
    "df = df.dropna(how=\"any\")\n",
    "# only 2 rows\n",
    "df[\"label\"]"
   ]
  },
  {
   "cell_type": "code",
   "execution_count": 10,
   "metadata": {},
   "outputs": [
    {
     "name": "stdout",
     "output_type": "stream",
     "text": [
      "(1679, 7) (1679,)\n"
     ]
    }
   ],
   "source": [
    "# Assign X (data) and y (target)\n",
    "X = df.drop(\"label\", axis=1)\n",
    "y = df[\"label\"]\n",
    "print(X.shape, y.shape)"
   ]
  },
  {
   "cell_type": "code",
   "execution_count": 11,
   "metadata": {},
   "outputs": [],
   "source": [
    "X_train, X_test, y_train, y_test = train_test_split(X, y, random_state=42, stratify=y)"
   ]
  },
  {
   "cell_type": "code",
   "execution_count": 12,
   "metadata": {},
   "outputs": [
    {
     "name": "stderr",
     "output_type": "stream",
     "text": [
      "/Users/kyleeng/anaconda3/envs/PythonData/lib/python3.7/site-packages/sklearn/preprocessing/data.py:625: DataConversionWarning: Data with input dtype int64, float64 were all converted to float64 by StandardScaler.\n",
      "  return self.partial_fit(X, y)\n"
     ]
    }
   ],
   "source": [
    "from sklearn.preprocessing import StandardScaler\n",
    "\n",
    "# Create a StandardScater model and fit it to the training data\n",
    "X_scaler = StandardScaler().fit(X_train)"
   ]
  },
  {
   "cell_type": "code",
   "execution_count": 13,
   "metadata": {},
   "outputs": [
    {
     "name": "stderr",
     "output_type": "stream",
     "text": [
      "/Users/kyleeng/anaconda3/envs/PythonData/lib/python3.7/site-packages/ipykernel_launcher.py:3: DataConversionWarning: Data with input dtype int64, float64 were all converted to float64 by StandardScaler.\n",
      "  This is separate from the ipykernel package so we can avoid doing imports until\n",
      "/Users/kyleeng/anaconda3/envs/PythonData/lib/python3.7/site-packages/ipykernel_launcher.py:4: DataConversionWarning: Data with input dtype int64, float64 were all converted to float64 by StandardScaler.\n",
      "  after removing the cwd from sys.path.\n"
     ]
    }
   ],
   "source": [
    "# Transform the training and testing data using the X_scaler\n",
    "\n",
    "X_train_scaled = X_scaler.transform(X_train)\n",
    "X_test_scaled = X_scaler.transform(X_test)"
   ]
  },
  {
   "cell_type": "code",
   "execution_count": 14,
   "metadata": {},
   "outputs": [
    {
     "name": "stderr",
     "output_type": "stream",
     "text": [
      "Using TensorFlow backend.\n"
     ]
    }
   ],
   "source": [
    "from sklearn.preprocessing import LabelEncoder\n",
    "from keras.utils import to_categorical\n",
    "\n",
    "# Step 1: Label-encode data set\n",
    "label_encoder = LabelEncoder()\n",
    "label_encoder.fit(y_train)\n",
    "encoded_y_train = label_encoder.transform(y_train)\n",
    "encoded_y_test = label_encoder.transform(y_test)\n",
    "\n",
    "\n",
    "# Step 2: Convert encoded labels to one-hot-encoding\n",
    "y_train_categorical = to_categorical(encoded_y_train)\n",
    "y_test_categorical = to_categorical(encoded_y_test)\n"
   ]
  },
  {
   "cell_type": "code",
   "execution_count": 20,
   "metadata": {},
   "outputs": [
    {
     "name": "stdout",
     "output_type": "stream",
     "text": [
      "k: 1, Train/Test Score: 1.000/0.907\n",
      "k: 2, Train/Test Score: 0.942/0.888\n",
      "k: 3, Train/Test Score: 0.937/0.919\n",
      "k: 4, Train/Test Score: 0.934/0.921\n",
      "k: 5, Train/Test Score: 0.934/0.924\n",
      "k: 6, Train/Test Score: 0.932/0.919\n",
      "k: 7, Train/Test Score: 0.932/0.919\n",
      "k: 8, Train/Test Score: 0.929/0.917\n",
      "k: 9, Train/Test Score: 0.932/0.924\n",
      "k: 10, Train/Test Score: 0.930/0.926\n",
      "k: 11, Train/Test Score: 0.929/0.921\n",
      "k: 12, Train/Test Score: 0.927/0.921\n",
      "k: 13, Train/Test Score: 0.929/0.921\n",
      "k: 14, Train/Test Score: 0.926/0.921\n",
      "k: 15, Train/Test Score: 0.929/0.921\n",
      "k: 16, Train/Test Score: 0.928/0.919\n",
      "k: 17, Train/Test Score: 0.928/0.919\n",
      "k: 18, Train/Test Score: 0.928/0.919\n",
      "k: 19, Train/Test Score: 0.928/0.919\n"
     ]
    },
    {
     "data": {
      "image/png": "[encoded data removed]",
      "text/plain": [
       "<Figure size 432x288 with 1 Axes>"
      ]
     },
     "metadata": {
      "needs_background": "light"
     },
     "output_type": "display_data"
    }
   ],
   "source": [
    "# Loop through different k values to see which has the highest accuracy\n",
    "# Note: We only use odd numbers because we don't want any ties\n",
    "train_scores = []\n",
    "test_scores = []\n",
    "for k in range(1, 20, 1):\n",
    "    knn = KNeighborsClassifier(n_neighbors=k)\n",
    "    knn.fit(X_train_scaled, y_train)\n",
    "    train_score = knn.score(X_train_scaled, y_train)\n",
    "    test_score = knn.score(X_test_scaled, y_test)\n",
    "    train_scores.append(train_score)\n",
    "    test_scores.append(test_score)\n",
    "    print(f\"k: {k}, Train/Test Score: {train_score:.3f}/{test_score:.3f}\")\n",
    "    \n",
    "    \n",
    "plt.plot(range(1, 20, 1), train_scores, marker='o')\n",
    "plt.plot(range(1, 20, 1), test_scores, marker=\"x\")\n",
    "plt.xlabel(\"k neighbors\")\n",
    "plt.ylabel(\"Testing accuracy Score\")\n",
    "plt.show()"
   ]
  },
  {
   "cell_type": "code",
   "execution_count": 22,
   "metadata": {},
   "outputs": [
    {
     "name": "stdout",
     "output_type": "stream",
     "text": [
      "k=2 Test Acc: 0.829\n"
     ]
    }
   ],
   "source": [
    "# Note that k: 9 provides the best accuracy where the classifier starts to stablize\n",
    "knn = KNeighborsClassifier(n_neighbors=2)\n",
    "knn.fit(X_train, y_train)\n",
    "print('k=2 Test Acc: %.3f' % knn.score(X_test, y_test))"
   ]
  },
  {
   "cell_type": "code",
   "execution_count": 23,
   "metadata": {},
   "outputs": [
    {
     "ename": "NameError",
     "evalue": "name 'model' is not defined",
     "output_type": "error",
     "traceback": [
      "\u001b[0;31m---------------------------------------------------------------------------\u001b[0m",
      "\u001b[0;31mNameError\u001b[0m                                 Traceback (most recent call last)",
      "\u001b[0;32m<ipython-input-23-5f15418b3570>\u001b[0m in \u001b[0;36m<module>\u001b[0;34m\u001b[0m\n\u001b[0;32m----> 1\u001b[0;31m \u001b[0mmodel\u001b[0m\u001b[0;34m.\u001b[0m\u001b[0msummary\u001b[0m\u001b[0;34m(\u001b[0m\u001b[0;34m)\u001b[0m\u001b[0;34m\u001b[0m\u001b[0;34m\u001b[0m\u001b[0m\n\u001b[0m",
      "\u001b[0;31mNameError\u001b[0m: name 'model' is not defined"
     ]
    }
   ],
   "source": [
    "model.summary()"
   ]
  },
  {
   "cell_type": "code",
   "execution_count": null,
   "metadata": {},
   "outputs": [],
   "source": [
    "# from sklearn.linear_model import LogisticRegression\n",
    "# classifier = LogisticRegression()\n",
    "# classifier\n",
    "# classifier.fit(X_train, y_train)\n",
    "\n",
    "# predictions = classifier.predict(X_test)\n",
    "# egg = pd.DataFrame({\"Prediction\": predictions, \"Actual\": y_test})"
   ]
  },
  {
   "cell_type": "code",
   "execution_count": null,
   "metadata": {},
   "outputs": [],
   "source": [
    "# newegg = egg[egg[\"Prediction\"] != egg[\"Actual\"]]"
   ]
  },
  {
   "cell_type": "code",
   "execution_count": null,
   "metadata": {},
   "outputs": [],
   "source": [
    "# newestegg = list(newegg.index)\n",
    "# newestegg"
   ]
  },
  {
   "cell_type": "code",
   "execution_count": null,
   "metadata": {},
   "outputs": [],
   "source": [
    "# df.loc[newestegg]"
   ]
  },
  {
   "cell_type": "code",
   "execution_count": null,
   "metadata": {},
   "outputs": [],
   "source": []
  }
 ],
 "metadata": {
  "kernelspec": {
   "display_name": "Python 3",
   "language": "python",
   "name": "python3"
  },
  "language_info": {
   "codemirror_mode": {
    "name": "ipython",
    "version": 3
   },
   "file_extension": ".py",
   "mimetype": "text/x-python",
   "name": "python",
   "nbconvert_exporter": "python",
   "pygments_lexer": "ipython3",
   "version": "3.7.1"
  }
 },
 "nbformat": 4,
 "nbformat_minor": 2
}
